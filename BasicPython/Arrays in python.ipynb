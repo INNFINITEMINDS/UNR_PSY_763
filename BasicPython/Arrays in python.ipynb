{
 "cells": [
  {
   "cell_type": "markdown",
   "metadata": {},
   "source": [
    "# Creation and indexing of arrays in python\n",
    "\n",
    "The fundamental data structure in many kinds of data analysis is the *n-dimensional array*. In Matlab, everything is an array; in python, the array is the fundamental data structure in numpy. This notebook will walk you (slowly) through various means to create, manipulate, and index into arrays. \n",
    "\n",
    "Eventually, we will load an array of fMRI data, and "
   ]
  },
  {
   "cell_type": "code",
   "execution_count": 1,
   "metadata": {},
   "outputs": [],
   "source": [
    "import matplotlib.pyplot as plt\n",
    "import numpy as np\n",
    "\n",
    "%matplotlib inline\n",
    "# Optional line for prettier plots on high-dpi screens (uncomment to try if you have a retina display)\n",
    "# %config InlineBackend.figure_format = 'retina'"
   ]
  },
  {
   "cell_type": "markdown",
   "metadata": {},
   "source": [
    "## Creating arrays\n",
    "There are many ways to create arrays in python. \n",
    "\n",
    "The most basic way to create an array in python is from a more basic, general python structure: the list. Lists are created by enclosing numbers, strings, or whatever other objecst you want in brackets, like this: "
   ]
  },
  {
   "cell_type": "code",
   "execution_count": 2,
   "metadata": {},
   "outputs": [],
   "source": [
    "list1 = [0, 1, 2, 3, 4]\n",
    "list2 = ['I', 'am', 'a', 'list']\n",
    "list3 = ['Lists', 'can', 'have', 'different', 'stuff', 'in', 'them', 0, 1, list2]"
   ]
  },
  {
   "cell_type": "markdown",
   "metadata": {},
   "source": [
    "Lists are good for agglomerating all manner of stuff, but they aren't much good for math. Technically, arrays can contain things besides numbers, too, but arrays of objects are not as commonly used in data science and will be  beyond our scope here. However, lists provide a good first introduction to *indexing*, or selecting the values you want from a data structure. \n",
    "\n",
    "In python, the first element of a list or array has the index value 0. This is different from Matlab, which is often confusing for people who start programming in python after programming in Matlab. There are many blog posts and opinion pieces you can find about the relative merits of indexing from zero, but most of the pro reasons come down to elegant indexing - or more specifically, elegant slicing of arrays. It's a bit confusing to remember that the first element of an array is 0, or that the third is 2, but when you want to extract ranges of values from an array (which is actually far more common than pulling individual values), things get nicer. "
   ]
  },
  {
   "cell_type": "markdown",
   "metadata": {},
   "source": [
    "### Aside on zero-based indexing"
   ]
  },
  {
   "cell_type": "code",
   "execution_count": 3,
   "metadata": {},
   "outputs": [
    {
     "name": "stdout",
     "output_type": "stream",
     "text": [
      "0\n",
      "am\n",
      "['Lists', 'can', 'have']\n"
     ]
    }
   ],
   "source": [
    "# To index a list, you can select one or more items with numbers or numbers and colons\n",
    "print(list1[0]) # first item in list 1\n",
    "print(list2[1]) # the second item in list 2\n",
    "print(list3[:3]) # the first 3 items in list 3. "
   ]
  },
  {
   "cell_type": "markdown",
   "metadata": {},
   "source": [
    "To select all values from the beginning or to the end of an array, you do not have to specify `(1:...)` or `(...:end)`, as you do in Matlab; the colon suffices to indicate all values from the beginning or end (see third line of code above).\n",
    "\n",
    "Note that, to get the first three elements of an array in Matlab would require the syntax `list3(1:3+1)`. People who like zero-based indexing find +1s like that ugly and cumbersome. And if you program in python for a while, you will find that you end up writing fewer `+1`s or `-1`s when indexing arrays. Here's another benefit of the way python indexes:"
   ]
  },
  {
   "cell_type": "code",
   "execution_count": 4,
   "metadata": {},
   "outputs": [
    {
     "name": "stdout",
     "output_type": "stream",
     "text": [
      "['I', 'am'] ['a', 'list']\n"
     ]
    }
   ],
   "source": [
    "# To split an array at a particular index value, you can write: \n",
    "idx = 2\n",
    "part_a = list2[:idx]\n",
    "part_b = list2[idx:]\n",
    "print(part_a, part_b)"
   ]
  },
  {
   "cell_type": "markdown",
   "metadata": {},
   "source": [
    "I hope you can see that this convention allows for clean syntax for many purposes. This is pretty. This is the reason you will be confused until you learn to love it."
   ]
  },
  {
   "cell_type": "markdown",
   "metadata": {},
   "source": [
    "## Indexing lists or 1D arrays\n",
    "Colon syntax allows you to slice arrays in many ways. The general form is `some_list[start:stop:step]`. Not all of these values have to be provided. If you provide only `some_list[start:stop]`, the `step` is assumed to be 1 (and all values between `start` and `stop` are returned). If you don't provide `start` or `stop` (as in the above examples), then all values from the beginining are taken (for missing `start`) and/or all values to the end are returned (for missing `stop`). So, you can also call `some_list[start::step]` to take every (`step`) value from `start` until the end of the array. Note that start, stop, and step must be integers - but they can be negative. Negative indicates values from the end, or backwards steps. Thus:"
   ]
  },
  {
   "cell_type": "code",
   "execution_count": 5,
   "metadata": {},
   "outputs": [
    {
     "name": "stdout",
     "output_type": "stream",
     "text": [
      "[0, 1, 2, 3, 4]\n",
      "[0, 2, 4]\n",
      "[4, 3, 2, 1, 0]\n",
      "[4, 2, 0]\n"
     ]
    }
   ],
   "source": [
    "print(list1)\n",
    "# (for each of the values below, we specify a STEP only; the start and end are assumed to be the beginning of the \n",
    "# array and the end, since no values are given before the first and second colons)\n",
    "# Every other value\n",
    "print(list1[::2])\n",
    "# Reverse the list (this is common syntax!)\n",
    "print(list1[::-1])\n",
    "# Every other value from the end of the array backwards:\n",
    "print(list1[-1::-2])"
   ]
  },
  {
   "cell_type": "markdown",
   "metadata": {},
   "source": [
    "## Useful functions to create arrays\n",
    "Back to arrays. Arrays can be created from lists using np.array():"
   ]
  },
  {
   "cell_type": "code",
   "execution_count": 6,
   "metadata": {},
   "outputs": [
    {
     "name": "stdout",
     "output_type": "stream",
     "text": [
      "1D array:\n",
      "[5 2 3 1]\n",
      "\n",
      "2D array:\n",
      "[[ 1  2  3  4]\n",
      " [ 5  6  7  8]\n",
      " [ 9 10 11 12]]\n"
     ]
    }
   ],
   "source": [
    "# This creates a 1-dimensional array:\n",
    "list_1d = [5, 2, 3, 1]\n",
    "array_1d = np.array(list_1d)\n",
    "# Note that this could be compressed to one line:\n",
    "# array_1d = np.array([5, 2, 3, 1])\n",
    "# But we don't want to do too much too fast.\n",
    "print('1D array:')\n",
    "print(array_1d)\n",
    "\n",
    "# Two-dimensional arrays can be created from multiple lists:\n",
    "row1 = [1, 2, 3, 4]\n",
    "row2 = [5, 6 ,7, 8]\n",
    "row3 = [9, 10, 11, 12]\n",
    "# Note that here, np.array() still takes a list as an argument, it's just a list of lists\n",
    "array_2d = np.array([row1, row2, row3])\n",
    "print('\\n2D array:')\n",
    "print(array_2d)"
   ]
  },
  {
   "cell_type": "code",
   "execution_count": 7,
   "metadata": {},
   "outputs": [
    {
     "name": "stdout",
     "output_type": "stream",
     "text": [
      "(3, 4)\n"
     ]
    }
   ],
   "source": [
    "# You can always get the shape of an array by calling the shape method of the array:\n",
    "print(array_2d.shape)"
   ]
  },
  {
   "cell_type": "markdown",
   "metadata": {},
   "source": [
    "That is: this array is 3 elements tall and 4 elements wide. \n",
    "\n",
    "Manually creating arrays from lists can be tedious. And sometimes we will want to create particular types of arrays (for example, sequential numbers or random numbers). The following functions are generally useful for creating arrays with particular properties:\n",
    "\n",
    "```python\n",
    "np.ones() # Generates an array of ones in some particular shape\n",
    "np.zeros() # Generates an array of zeros in some particular shape\n",
    "np.random.rand() # generates random uniformly distributed numbers between 0 and 1 in some shape\n",
    "np.random.randn() # random normally distributed numbers with mean 0 and standard deviation 1 with \n",
    "                  # some shape specified\n",
    "np.linspace() # generates n equally spaced numbers between some minimum and some maximum. \n",
    "              # Always returns a vector (a 1D array)\n",
    "np.arange() # generates sequential values from some minimum to some maximum (or potentially maximum \n",
    "            # to minimum) with the STEP SIZE specified rather than the number of values. Always \n",
    "            # returns a vectior (a 1D array)\n",
    "```\n",
    "\n",
    "Note that that last is not \"arrange\" - it's meant to be an abbreviation of \"ARRAY-range\", since `range()` is a function that generates an iterator in python (outside of numpy). If you are just starting out in python, you can think of an iterator as something like a list, though that's not precisely correct. Anyway: A-range (np.arange()) behaves much like `range()` but generates arrays.\n",
    "\n"
   ]
  },
  {
   "cell_type": "code",
   "execution_count": 8,
   "metadata": {},
   "outputs": [
    {
     "name": "stdout",
     "output_type": "stream",
     "text": [
      "[0.   0.25 0.5  0.75 1.  ]\n",
      "[4 6 8]\n",
      "[[0.19643115 0.63389969 0.94021686]\n",
      " [0.70365876 0.24157075 0.87979079]]\n",
      "[[-0.35114457  1.0829223 ]\n",
      " [ 0.50103893 -0.256207  ]\n",
      " [-0.78978904  0.74534698]\n",
      " [-0.0574914   0.04891419]\n",
      " [ 0.25492182  1.11426382]]\n"
     ]
    }
   ],
   "source": [
    "# Some examples\n",
    "print(np.linspace(0, 1, 5))\n",
    "print(np.arange(4, 10, 2))\n",
    "print(np.random.rand(2, 3))\n",
    "print(np.random.randn(5, 2))"
   ]
  },
  {
   "cell_type": "markdown",
   "metadata": {},
   "source": [
    "For these and all other functions, you can always get help to learn or refresh your memory about the requisite syntax by calling the function plus a question mark, thus:"
   ]
  },
  {
   "cell_type": "code",
   "execution_count": 20,
   "metadata": {},
   "outputs": [],
   "source": [
    "np.linspace?"
   ]
  },
  {
   "cell_type": "markdown",
   "metadata": {},
   "source": [
    "Note that the help often contains example calls to the function. "
   ]
  },
  {
   "cell_type": "markdown",
   "metadata": {},
   "source": [
    "# Exercises: Array generation\n",
    "\n",
    "## A\n",
    "Make an array of 400 evenly spaced values between -10 and 10\n",
    "\n",
    "## B \n",
    "Make an array of random values between 0 and 1 that is (500 x 128)\n",
    "\n",
    "## C\n",
    "Make an array of random values between 0 and 5 that is (20 x 20)\n",
    "\n",
    "## D\n",
    "Make an array of random values between -1 and 1 that is (15 x 4)"
   ]
  },
  {
   "cell_type": "code",
   "execution_count": null,
   "metadata": {},
   "outputs": [],
   "source": [
    "# A\n",
    "A = ...\n",
    "# B\n",
    "B = ...\n",
    "# C\n",
    "C = ...\n",
    "# D\n",
    "D = ..."
   ]
  },
  {
   "cell_type": "markdown",
   "metadata": {},
   "source": [
    "# Indexing multi-dimensional arrays\n",
    "We've already seen how to index lists; 1D arrays work just the same. When arrays are 2D, more indices must be specified. "
   ]
  },
  {
   "cell_type": "code",
   "execution_count": 9,
   "metadata": {},
   "outputs": [
    {
     "name": "stdout",
     "output_type": "stream",
     "text": [
      "2\n",
      "8\n"
     ]
    }
   ],
   "source": [
    "a = np.array([[1, 2, 3, 4], [5, 6, 7, 8]])\n",
    "# Use integer indices for each dimension to specify individual values\n",
    "print(a[0, 1])\n",
    "print(a[1, 3])"
   ]
  },
  {
   "cell_type": "code",
   "execution_count": 10,
   "metadata": {},
   "outputs": [
    {
     "name": "stdout",
     "output_type": "stream",
     "text": [
      "[[2 3 4]\n",
      " [6 7 8]]\n",
      "[[3]\n",
      " [7]]\n"
     ]
    }
   ],
   "source": [
    "# Use slice notation (:) to select ranges of values\n",
    "print(a[:, 1:])\n",
    "print(a[:, 2:3])"
   ]
  },
  {
   "cell_type": "markdown",
   "metadata": {},
   "source": [
    "Note that all of the above return 2D arrays (just like the original array). If you use integer indices, you will reduce the dimensionality of the array into which you are indexing. For example, if you want to select only the 3rd column of `a` above (and return a 2-long 1D array), you would call the following:"
   ]
  },
  {
   "cell_type": "code",
   "execution_count": 11,
   "metadata": {},
   "outputs": [
    {
     "name": "stdout",
     "output_type": "stream",
     "text": [
      "Slicing:\n",
      "[[3]\n",
      " [7]]\n",
      "(2, 1)\n",
      "Integer indexing:\n",
      "[3 7]\n",
      "(2,)\n"
     ]
    }
   ],
   "source": [
    "# Slice indexing (with start:end) keeps 2D array \n",
    "print('Slicing:')\n",
    "print(a[:, 2:3])\n",
    "print(a[:, 2:3].shape)\n",
    "# Integer indexing removes one dimension\n",
    "print('Integer indexing:')\n",
    "print(a[:, 2])\n",
    "print(a[:, 2].shape)"
   ]
  },
  {
   "cell_type": "markdown",
   "metadata": {},
   "source": [
    "# Exercises: Array indexing\n",
    "## A \n",
    "Select the last half of the values in the array `A` that you created above. (call it A_pt2)\n",
    "## B\n",
    "Select the 3rd row of the array  `B` that you created above (call it B3)\n",
    "## C\n",
    "Select every other row from the 10th row from the end of the array to the last row of the array in `C` from above.\n",
    "## D\n",
    "Select every other row and column in `D` above."
   ]
  },
  {
   "cell_type": "code",
   "execution_count": 12,
   "metadata": {},
   "outputs": [],
   "source": [
    "# Answers\n",
    "\n",
    "# A\n",
    "\n",
    "# B\n",
    "\n",
    "# C\n",
    "\n",
    "# D\n"
   ]
  },
  {
   "cell_type": "markdown",
   "metadata": {},
   "source": [
    "Another really useful function (which we have made / will make much use of in class) is `np.meshgrid()`. This function is a little more confusing than the simple generation functions above, so I will introduce it with some motivation. Let's say you want to evaluate a 2D Gaussian function at a series of values. The equation for a 2D circular Gaussian is:\n",
    "\n",
    "$g = e^{-\\frac{(x-\\mu_x)^2 + (y-\\mu_y)^2}{2\\sigma^2}}$\n",
    "\n",
    "Here is a function to evaluate the value in a Gaussian for a given $x_0$, $y_0$, and $\\sigma$ (X center, Y center, and width): "
   ]
  },
  {
   "cell_type": "code",
   "execution_count": 13,
   "metadata": {},
   "outputs": [],
   "source": [
    "def gauss(x, y, x0=3, y0=2, sigma=1.5):\n",
    "    g = np.e**(-((x - x0)**2 + (y-y0)**2)/(2*sigma**2))\n",
    "    return g"
   ]
  },
  {
   "cell_type": "code",
   "execution_count": 14,
   "metadata": {},
   "outputs": [
    {
     "name": "stdout",
     "output_type": "stream",
     "text": [
      "0.32919298780790557\n",
      "0.8007374029168081\n"
     ]
    }
   ],
   "source": [
    "#You could use this function to evalutate the value for the Gaussian function at particular coordinates:\n",
    "# Here, we evaluate for (2, 0)\n",
    "print(gauss(2, 0))\n",
    "# Here, for (2, 2)\n",
    "print(gauss(2, 2))"
   ]
  },
  {
   "cell_type": "markdown",
   "metadata": {},
   "source": [
    "The value is larger the nearer the x and y values are to x0 and y0. Now let's say we want to evaluate a whole mess of values of X and Y. You might consider doing that in a loop, like this:"
   ]
  },
  {
   "cell_type": "code",
   "execution_count": 15,
   "metadata": {},
   "outputs": [
    {
     "name": "stdout",
     "output_type": "stream",
     "text": [
      "[[5.56379983e-02 1.69013315e-01 3.29192988e-01 4.11112291e-01\n",
      "  3.29192988e-01 1.69013315e-01 5.56379983e-02 1.17436285e-02\n",
      "  1.58932728e-03 1.37912809e-04]\n",
      " [1.08368023e-01 3.29192988e-01 6.41180388e-01 8.00737403e-01\n",
      "  6.41180388e-01 3.29192988e-01 1.08368023e-01 2.28734649e-02\n",
      "  3.09558685e-03 2.68617473e-04]\n",
      " [1.35335283e-01 4.11112291e-01 8.00737403e-01 1.00000000e+00\n",
      "  8.00737403e-01 4.11112291e-01 1.35335283e-01 2.85655008e-02\n",
      "  3.86592014e-03 3.35462628e-04]\n",
      " [1.08368023e-01 3.29192988e-01 6.41180388e-01 8.00737403e-01\n",
      "  6.41180388e-01 3.29192988e-01 1.08368023e-01 2.28734649e-02\n",
      "  3.09558685e-03 2.68617473e-04]\n",
      " [5.56379983e-02 1.69013315e-01 3.29192988e-01 4.11112291e-01\n",
      "  3.29192988e-01 1.69013315e-01 5.56379983e-02 1.17436285e-02\n",
      "  1.58932728e-03 1.37912809e-04]\n",
      " [1.83156389e-02 5.56379983e-02 1.08368023e-01 1.35335283e-01\n",
      "  1.08368023e-01 5.56379983e-02 1.83156389e-02 3.86592014e-03\n",
      "  5.23195397e-04 4.53999298e-05]\n",
      " [3.86592014e-03 1.17436285e-02 2.28734649e-02 2.85655008e-02\n",
      "  2.28734649e-02 1.17436285e-02 3.86592014e-03 8.15987835e-04\n",
      "  1.10431945e-04 9.58265796e-06]\n",
      " [5.23195397e-04 1.58932728e-03 3.09558685e-03 3.86592014e-03\n",
      "  3.09558685e-03 1.58932728e-03 5.23195397e-04 1.10431945e-04\n",
      "  1.49453385e-05 1.29687173e-06]\n",
      " [4.53999298e-05 1.37912809e-04 2.68617473e-04 3.35462628e-04\n",
      "  2.68617473e-04 1.37912809e-04 4.53999298e-05 9.58265796e-06\n",
      "  1.29687173e-06 1.12535175e-07]\n",
      " [2.52596121e-06 7.67319265e-06 1.49453385e-05 1.86644691e-05\n",
      "  1.49453385e-05 7.67319265e-06 2.52596121e-06 5.33159907e-07\n",
      "  7.21553470e-08 6.26123186e-09]]\n"
     ]
    }
   ],
   "source": [
    "# Define some xs and ys at which you want to evaluate the Gaussian function\n",
    "xs = np.arange(10)\n",
    "ys = np.arange(10)\n",
    "# Store the output in some sensible format (a 2D array)\n",
    "g = np.zeros((10, 10))\n",
    "for x in xs:\n",
    "    for y in ys:\n",
    "        g[y, x] = gauss(x, y)\n",
    "print(g)"
   ]
  },
  {
   "cell_type": "markdown",
   "metadata": {},
   "source": [
    "OK, that's too big to look at, so let's show it as an image. For this, we will use `plt.imshow()`, which displays a 2D array as an image; the color of the image reflects the values in the array (the mapping between values and colors can be changed by specifying a `cmap='some_colormap'` keyword argument to `plt.imshow()`). We will talk more about this function and other plotting functions in a different notebook."
   ]
  },
  {
   "cell_type": "code",
   "execution_count": 16,
   "metadata": {},
   "outputs": [
    {
     "data": {
      "text/plain": [
       "<matplotlib.image.AxesImage at 0x7effecb07c88>"
      ]
     },
     "execution_count": 16,
     "metadata": {},
     "output_type": "execute_result"
    },
    {
     "data": {
      "image/png": "[encoded data removed]",
      "text/plain": [
       "<matplotlib.figure.Figure at 0x7effeeb3f4a8>"
      ]
     },
     "metadata": {},
     "output_type": "display_data"
    }
   ],
   "source": [
    "# Neat: the values of the Gaussian smoothly fall off away from (2, 3)\n",
    "plt.imshow(g)"
   ]
  },
  {
   "cell_type": "markdown",
   "metadata": {},
   "source": [
    "... But, we don't have to do this in a loop. It would be better to evaluate a whole bunch of X and Y values all at once, and the way the function is written will support this (the math will work just the same on arrays as it works on individual [scalar] values of X and Y). So we need a way to create a bunch of ordered X and Y values all at once. Enter `np.meshgrid()`. This function creates 2D arrays that vary in each of two separate dimensions (technically, it's good for N dimensional arrays varying in each of N different dimensions). "
   ]
  },
  {
   "cell_type": "code",
   "execution_count": 17,
   "metadata": {},
   "outputs": [
    {
     "name": "stdout",
     "output_type": "stream",
     "text": [
      "[[0 1 2 3 4 5 6 7 8 9]\n",
      " [0 1 2 3 4 5 6 7 8 9]\n",
      " [0 1 2 3 4 5 6 7 8 9]\n",
      " [0 1 2 3 4 5 6 7 8 9]\n",
      " [0 1 2 3 4 5 6 7 8 9]\n",
      " [0 1 2 3 4 5 6 7 8 9]\n",
      " [0 1 2 3 4 5 6 7 8 9]\n",
      " [0 1 2 3 4 5 6 7 8 9]\n",
      " [0 1 2 3 4 5 6 7 8 9]\n",
      " [0 1 2 3 4 5 6 7 8 9]]\n",
      "[[0 0 0 0 0 0 0 0 0 0]\n",
      " [1 1 1 1 1 1 1 1 1 1]\n",
      " [2 2 2 2 2 2 2 2 2 2]\n",
      " [3 3 3 3 3 3 3 3 3 3]\n",
      " [4 4 4 4 4 4 4 4 4 4]\n",
      " [5 5 5 5 5 5 5 5 5 5]\n",
      " [6 6 6 6 6 6 6 6 6 6]\n",
      " [7 7 7 7 7 7 7 7 7 7]\n",
      " [8 8 8 8 8 8 8 8 8 8]\n",
      " [9 9 9 9 9 9 9 9 9 9]]\n"
     ]
    }
   ],
   "source": [
    "# Define the range of values you want for X and Y:\n",
    "xs = np.arange(10)\n",
    "ys = np.arange(10)\n",
    "# Create xg and yg (x grid and y grid)\n",
    "xg, yg = np.meshgrid(xs, ys)\n",
    "print(xg)\n",
    "print(yg)"
   ]
  },
  {
   "cell_type": "markdown",
   "metadata": {},
   "source": [
    "Now, we can pass these to the `gauss` function and get the same result:"
   ]
  },
  {
   "cell_type": "code",
   "execution_count": 18,
   "metadata": {},
   "outputs": [
    {
     "data": {
      "text/plain": [
       "<matplotlib.image.AxesImage at 0x7effeca78080>"
      ]
     },
     "execution_count": 18,
     "metadata": {},
     "output_type": "execute_result"
    },
    {
     "data": {
      "image/png": "[encoded data removed]",
      "text/plain": [
       "<matplotlib.figure.Figure at 0x7effeeb670f0>"
      ]
     },
     "metadata": {},
     "output_type": "display_data"
    }
   ],
   "source": [
    "# Neat - same result, much less code!\n",
    "gg = gauss(xg, yg)\n",
    "plt.imshow(gg)"
   ]
  },
  {
   "cell_type": "markdown",
   "metadata": {},
   "source": [
    "Note that this also gives you lots of flexibility. Let's say you wanted to define a finer-grained grid over which to evaluate the Gaussian. You can do that with meshgrid:"
   ]
  },
  {
   "cell_type": "code",
   "execution_count": 19,
   "metadata": {},
   "outputs": [
    {
     "data": {
      "text/plain": [
       "<matplotlib.image.AxesImage at 0x7effecab1ac8>"
      ]
     },
     "execution_count": 19,
     "metadata": {},
     "output_type": "execute_result"
    },
    {
     "data": {
      "image/png": "[encoded data removed]",
      "text/plain": [
       "<matplotlib.figure.Figure at 0x7effeca808d0>"
      ]
     },
     "metadata": {},
     "output_type": "display_data"
    }
   ],
   "source": [
    "# Let's evaluate our Gaussian over a range of 101 different values from -10 to 10 in X and Y\n",
    "xs = np.linspace(0, 10, 101)\n",
    "ys = np.linspace(0, 10, 101)\n",
    "# Create xg and yg (x grid and y grid)\n",
    "xg, yg = np.meshgrid(xs, ys)\n",
    "ggg = gauss(xg, yg)\n",
    "# (Now we have to specify an extent, because we have lots of values between 0 and 10, not just 10 values)\n",
    "plt.imshow(ggg, extent=(0, 10, 10, 0))"
   ]
  },
  {
   "cell_type": "markdown",
   "metadata": {},
   "source": [
    "np.meshgrid() is particularly useful for a few cases (which have / will come up in class a fair bit):\n",
    "\n",
    "* evaluating a function (such as a Gaussian, a Gabor function, or a motion energy function) over many (x,y) locations in the visual field. \n",
    "* Selecting ranges of values in different parameters to test "
   ]
  },
  {
   "cell_type": "markdown",
   "metadata": {},
   "source": [
    "# Further exercises\n",
    "Select the first row of the array `g` created above, and plot it using plt.plot(). Select the second row, and do the same thing. Do you understand what you see?"
   ]
  },
  {
   "cell_type": "code",
   "execution_count": 25,
   "metadata": {},
   "outputs": [],
   "source": [
    "# Answer\n"
   ]
  },
  {
   "cell_type": "code",
   "execution_count": null,
   "metadata": {},
   "outputs": [],
   "source": []
  }
 ],
 "metadata": {
  "kernelspec": {
   "display_name": "Python 3",
   "language": "python",
   "name": "python3"
  },
  "language_info": {
   "codemirror_mode": {
    "name": "ipython",
    "version": 3
   },
   "file_extension": ".py",
   "mimetype": "text/x-python",
   "name": "python",
   "nbconvert_exporter": "python",
   "pygments_lexer": "ipython3",
   "version": "3.5.2"
  }
 },
 "nbformat": 4,
 "nbformat_minor": 2
}
