{
 "cells": [
  {
   "cell_type": "markdown",
   "metadata": {},
   "source": [
    "# Programming evaluation 1\n",
    "Fill in the following cells as indicated. If you do not know what specific python code should be used (i.e. if you forgot a function or package name, or otherwise don't remember the precise form of the code necessary to accomplish a task), please write out a description of what needs to be done in pseudo-code or plain English. Comments describing what your code is doing are also strongly encouraged, especially if you are not sure that your code is correct. For example:\n",
    "\n",
    "```python\n",
    "# These line constructs a random normal array that is size (100 time points x 50 voxels)\n",
    "n_voxels = 50\n",
    "n_timepoints = 100\n",
    "Y = np.random.randn((n_timepoints, n_voxels))\n",
    "```\n",
    "\n",
    "The above line won't actually run correctly due to an error in the code, but would be worth 90% of the points for that component of the question.\n",
    "\n",
    "Finally, if aren't sure that you are doing something the way we have done it in class, or thin your solution might be imperfect, that's OK - if your hacky or imperfect solution works, you may get full points, and you will get partial credit for trying something even if it doesn't."
   ]
  },
  {
   "cell_type": "code",
   "execution_count": null,
   "metadata": {},
   "outputs": [],
   "source": [
    "# Imports\n",
    "import matplotlib.pyplot as plt\n",
    "import numpy as np\n",
    "import cortex as cx\n",
    "import h5py\n",
    "\n",
    "# Make image plots easier\n",
    "plt.rcParams['image.aspect'] = 'auto'\n",
    "\n",
    "# Some utility functions\n",
    "import sys\n",
    "import os\n",
    "sys.path.append(os.path.abspath('..'))\n",
    "import utils.fmri as fmriutils\n",
    "\n",
    "%matplotlib inline"
   ]
  },
  {
   "cell_type": "markdown",
   "metadata": {},
   "source": [
    "## Part 1: construction of arrays & fake data\n",
    "\n",
    "> `1. (5 points)` Construct a design matrix (Call it X) consisting of five columns of binary indicator variables that is 200 TRs long (1 point). Each column should have five occurrences of a condition, each coded as series of ones in the array (1 point), and each condition occurrence should last 2 TRs(1 point). No two conditions should ever be on at the same time (1 point).  Once you have constructed this array, show it using plt.imshow() (1 point) Please attempt to construct this array as instructed, but if you have trouble, please simply make a random array of the same size (200 TRs by 5 conditions) to use in the next questions."
   ]
  },
  {
   "cell_type": "code",
   "execution_count": null,
   "metadata": {},
   "outputs": [],
   "source": [
    "# Answer\n",
    "X = ... # ? \n"
   ]
  },
  {
   "cell_type": "code",
   "execution_count": null,
   "metadata": {},
   "outputs": [],
   "source": [
    "# Quick convolution of the data with an HRF function\n",
    "t, hrf = fmriutils.hrf()\n",
    "Xc = np.zeros(X.shape)\n",
    "for column in range(5):\n",
    "    tmp = np.convolve(X[:,column], hrf)\n",
    "    Xc[:,column] = tmp[:X.shape[0]]"
   ]
  },
  {
   "cell_type": "markdown",
   "metadata": {},
   "source": [
    "> `2. (1 point)` Why is it necessary to clip the `tmp` variable above to a maximum length of X.shape[0]? (this answer is just written)"
   ]
  },
  {
   "cell_type": "markdown",
   "metadata": {},
   "source": [
    "Answer:\n",
    "\n"
   ]
  },
  {
   "cell_type": "markdown",
   "metadata": {},
   "source": [
    "> `3. (3 points)` Create an array of random normal weights (call it `B`), one for each condition in the array above for each of 30 voxels (1 point). Multiply the array of weights by the HRF-convolved design matrix (`Xc`) to generate an array of data (call it `Y`) (1 point), and add some noise to Y. (1 point)"
   ]
  },
  {
   "cell_type": "code",
   "execution_count": null,
   "metadata": {},
   "outputs": [],
   "source": [
    "# Answer\n",
    "B = # ?\n",
    "Y = # ?"
   ]
  },
  {
   "cell_type": "markdown",
   "metadata": {},
   "source": [
    "> `4. (3 points)` Use ordinary least squares regression to estimate the weights from the noisy data (2 points). The normal equation for ordinary least squares is: $B = (X^TX)^{-1}X^TY$ Show the weights are close to the original weights however you can (1 point)"
   ]
  },
  {
   "cell_type": "code",
   "execution_count": null,
   "metadata": {},
   "outputs": [],
   "source": [
    "# Answer\n"
   ]
  },
  {
   "cell_type": "markdown",
   "metadata": {},
   "source": [
    "> `5. (3 points)` The experiment above is a simulation of a traditional block design or event-related experiment, a la Karl Friston. Describe in words or code what it would take to make this simulation into an encoding model experiment. Specifically: what would be different about X? (1 point) What might be different about the regression and why? (1 point) A critical aspect of the encoding model framework is making predictions of withheld data. What would this involve, in this sort of simulation? (1 point)"
   ]
  },
  {
   "cell_type": "markdown",
   "metadata": {},
   "source": [
    "Answer \n"
   ]
  },
  {
   "cell_type": "code",
   "execution_count": null,
   "metadata": {},
   "outputs": [],
   "source": [
    "# Or: Answer in code & comments (either is acceptable for full credit here)\n"
   ]
  },
  {
   "cell_type": "markdown",
   "metadata": {},
   "source": [
    "## Part 2: writing functions\n",
    "Another of the tasks we've done several times in class is to put a formula into python code. Here, your task is to write a function that computes the Euclidean distance between two vectors. The Euclidean distance is: \n",
    "\n",
    "## $D = \\sqrt{(x_1-y_1)^2 + (x_2-y_2)^2 + ... + (x_n-y_n)^2}$\n",
    "\n",
    "or, more generally, \n",
    "\n",
    "## $D = \\sqrt{\\sum_{i=1}^n (x_i-y_i)^2)}$\n",
    "\n",
    "$n$ is the number of elements in each vector; $x$ and $y$ are the vectors. \n",
    "\n",
    "> `6. (3 points)` Write a function that computes the Euclidean distance between two vectors (2 points). Use that function to compute the distance between each pair the three vectors (a, b, and c) below and show the distance between each pair however you see fit (1 point)"
   ]
  },
  {
   "cell_type": "code",
   "execution_count": null,
   "metadata": {},
   "outputs": [],
   "source": [
    "# load data\n",
    "rand_data = np.load('random_vars.npz')\n",
    "a = rand_data['a']\n",
    "b = rand_data['b']\n",
    "c = rand_data['c']\n",
    "print(a.shape, b.shape, c.shape)"
   ]
  },
  {
   "cell_type": "code",
   "execution_count": null,
   "metadata": {},
   "outputs": [],
   "source": [
    "# Answer\n",
    "# Define the function\n",
    "def euclidean_dist(x, y): \n",
    "    dst = # ??\n",
    "    return dst\n",
    "\n",
    "# Use the function to compute distances btw pairs of variables ((a,b), etc )\n",
    "dst_ab = # ??"
   ]
  },
  {
   "cell_type": "markdown",
   "metadata": {},
   "source": [
    "## Part 3: array masking\n",
    "> `7. (1 point)` How many voxels are in the following mask for V4? (you will have to do something to the array to find out)"
   ]
  },
  {
   "cell_type": "code",
   "execution_count": null,
   "metadata": {},
   "outputs": [],
   "source": [
    "subject = 's01'\n",
    "transform = 'color_natims'\n",
    "roi_mask = cx.get_roi_masks(subject, transform, roi_list=['V4'])"
   ]
  },
  {
   "cell_type": "code",
   "execution_count": null,
   "metadata": {},
   "outputs": [],
   "source": [
    "# Answer \n",
    "n_voxels = # ? "
   ]
  },
  {
   "cell_type": "markdown",
   "metadata": {},
   "source": [
    "> `8. (1 point)` Use the mask to select all voxels in V4 in the val_brain data array. Show the shape of the resulting array."
   ]
  },
  {
   "cell_type": "code",
   "execution_count": null,
   "metadata": {},
   "outputs": [],
   "source": [
    "# Load val_brain\n",
    "with h5py.File('/unrshare/LESCROARTSHARE/IntroToEncodingModels/s01_color_natims_data.hdf') as hf:\n",
    "    val_data = hf['val'].value\n",
    "    mask = hf['mask'].value\n",
    "val_brain = np.zeros((val_data.shape[0],) + mask.shape)\n",
    "val_brain[:, mask] = val_data"
   ]
  },
  {
   "cell_type": "code",
   "execution_count": null,
   "metadata": {},
   "outputs": [],
   "source": [
    "# Answer\n",
    "V4 voxels =  # ?"
   ]
  },
  {
   "cell_type": "markdown",
   "metadata": {},
   "source": [
    "## Part 4: (Bonus, extra credit) data visualization\n",
    "The following 3D array (`d`) contains a mask for a 3D shape within it (ones where the shape is present, 0 where it is absent). \n",
    "\n",
    "> `9. (+ 3 points)` Use the `plt.imshow()` (or `ax.imshow()`) function to visualize 3 different slices through the array in each of the 3 dimensions of the array. Thus, you should make a total of 9 plots (or subplots, if you want to be fancy - not required). These plots are analogous to looking at transverse, saggital, and coronal sections of a brain. (To be clear, a slice involves specifying a value for one dimension, and showing all values for the other dimensions. For each dimension, I recommend showing the 30th, 50th, and 70th values). "
   ]
  },
  {
   "cell_type": "code",
   "execution_count": null,
   "metadata": {},
   "outputs": [],
   "source": [
    "d = np.load('mystery_shape.npy')\n",
    "print(d.shape)"
   ]
  },
  {
   "cell_type": "code",
   "execution_count": null,
   "metadata": {},
   "outputs": [],
   "source": [
    "# Answer\n"
   ]
  },
  {
   "cell_type": "markdown",
   "metadata": {},
   "source": [
    "> `10. (+ 1 point)` What is the 3D shape? "
   ]
  },
  {
   "cell_type": "markdown",
   "metadata": {},
   "source": [
    "Answer: \n"
   ]
  }
 ],
 "metadata": {
  "kernelspec": {
   "display_name": "Python 3",
   "language": "python",
   "name": "python3"
  },
  "language_info": {
   "codemirror_mode": {
    "name": "ipython",
    "version": 3
   },
   "file_extension": ".py",
   "mimetype": "text/x-python",
   "name": "python",
   "nbconvert_exporter": "python",
   "pygments_lexer": "ipython3",
   "version": "3.5.2"
  }
 },
 "nbformat": 4,
 "nbformat_minor": 2
}
