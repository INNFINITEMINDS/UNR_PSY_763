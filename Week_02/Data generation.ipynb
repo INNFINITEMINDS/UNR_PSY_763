{
 "cells": [
  {
   "cell_type": "markdown",
   "metadata": {},
   "source": [
    "# Generation of data that is affected by multiple sources\n",
    "\n",
    "Last week, we did a basic introduction to python and jupyter notebooks, as well as some plots of different types of relationships. That is, we dabbled in data generation. This week, we will create variables representing events in the world, and use them to generate data that is related to those events."
   ]
  },
  {
   "cell_type": "code",
   "execution_count": 2,
   "metadata": {
    "collapsed": true
   },
   "outputs": [],
   "source": [
    "import numpy as np\n",
    "import matplotlib.pyplot as plt\n",
    "%matplotlib inline"
   ]
  },
  {
   "cell_type": "markdown",
   "metadata": {},
   "source": [
    "To create an *indicator* or *categorical* variable, one generally uses a vector (an array) of zeros, with ones to indicate events, conditions, or whatever needs to be *indicated*."
   ]
  },
  {
   "cell_type": "code",
   "execution_count": 15,
   "metadata": {},
   "outputs": [
    {
     "data": {
      "text/plain": [
       "[<matplotlib.lines.Line2D at 0x10fde8978>]"
      ]
     },
     "execution_count": 15,
     "metadata": {},
     "output_type": "execute_result"
    },
    {
     "data": {
      "image/png": "[encoded data removed]",
      "text/plain": [
       "<matplotlib.figure.Figure at 0x10fd2fdd8>"
      ]
     },
     "metadata": {},
     "output_type": "display_data"
    }
   ],
   "source": [
    "n_timepoints = 100\n",
    "onsets = [5, 13, 26]\n",
    "duration = 6 # timepoints, unclear what unit\n",
    "x = np.zeros(n_timepoints)\n",
    "for on in onsets:\n",
    "    x[on:on+duration] = 1\n",
    "plt.plot(x)"
   ]
  },
  {
   "cell_type": "code",
   "execution_count": 16,
   "metadata": {
    "collapsed": true
   },
   "outputs": [],
   "source": [
    "def define_indicator(n_timepoints, onsets, duration):\n",
    "    x = np.zeros(n_timepoints)\n",
    "    for on in onsets:\n",
    "        x[on:on+duration] = 1\n",
    "    return x"
   ]
  },
  {
   "cell_type": "code",
   "execution_count": 17,
   "metadata": {},
   "outputs": [
    {
     "data": {
      "text/plain": [
       "100"
      ]
     },
     "execution_count": 17,
     "metadata": {},
     "output_type": "execute_result"
    }
   ],
   "source": [
    "n_timepoints"
   ]
  },
  {
   "cell_type": "code",
   "execution_count": 20,
   "metadata": {},
   "outputs": [
    {
     "data": {
      "text/plain": [
       "[<matplotlib.lines.Line2D at 0x10ffd1e10>]"
      ]
     },
     "execution_count": 20,
     "metadata": {},
     "output_type": "execute_result"
    },
    {
     "data": {
      "image/png": "[encoded data removed]",
      "text/plain": [
       "<matplotlib.figure.Figure at 0x10ff815f8>"
      ]
     },
     "metadata": {},
     "output_type": "display_data"
    }
   ],
   "source": [
    "duration = 2\n",
    "Xwow = define_indicator(n_timepoints, onsets, duration)\n",
    "plt.plot(Xwow)"
   ]
  },
  {
   "cell_type": "code",
   "execution_count": null,
   "metadata": {
    "collapsed": true
   },
   "outputs": [],
   "source": []
  },
  {
   "cell_type": "code",
   "execution_count": 7,
   "metadata": {},
   "outputs": [
    {
     "data": {
      "text/plain": [
       "[1, 2, 3, 1, 2, 3, 1, 2, 3]"
      ]
     },
     "execution_count": 7,
     "metadata": {},
     "output_type": "execute_result"
    }
   ],
   "source": [
    "[1,2,3] * 3"
   ]
  },
  {
   "cell_type": "code",
   "execution_count": 8,
   "metadata": {},
   "outputs": [
    {
     "data": {
      "text/plain": [
       "array([3, 6, 9])"
      ]
     },
     "execution_count": 8,
     "metadata": {},
     "output_type": "execute_result"
    }
   ],
   "source": [
    "np.array([1,2,3]) * 3"
   ]
  },
  {
   "cell_type": "code",
   "execution_count": 10,
   "metadata": {},
   "outputs": [
    {
     "name": "stdout",
     "output_type": "stream",
     "text": [
      "my\n",
      ".\n",
      "name\n",
      ".\n",
      "is\n",
      ".\n",
      "mark\n",
      ".\n"
     ]
    }
   ],
   "source": [
    "my_strings = ['my','name','is','mark']\n",
    "for yo in my_strings:\n",
    "    print(yo)\n",
    "    print('.')"
   ]
  },
  {
   "cell_type": "code",
   "execution_count": 13,
   "metadata": {},
   "outputs": [
    {
     "name": "stdout",
     "output_type": "stream",
     "text": [
      "0.0\n",
      "0.526315789474\n",
      "1.05263157895\n",
      "1.57894736842\n",
      "2.10526315789\n",
      "2.63157894737\n",
      "3.15789473684\n",
      "3.68421052632\n",
      "4.21052631579\n",
      "4.73684210526\n",
      "5.26315789474\n",
      "5.78947368421\n",
      "6.31578947368\n",
      "6.84210526316\n",
      "7.36842105263\n",
      "7.89473684211\n",
      "8.42105263158\n",
      "8.94736842105\n",
      "9.47368421053\n",
      "10.0\n"
     ]
    }
   ],
   "source": [
    "for x in np.linspace(0,10,20):\n",
    "    print(x)"
   ]
  },
  {
   "cell_type": "code",
   "execution_count": 12,
   "metadata": {},
   "outputs": [
    {
     "name": "stdout",
     "output_type": "stream",
     "text": [
      "0\n",
      "2\n",
      "4\n",
      "6\n",
      "8\n"
     ]
    }
   ],
   "source": [
    "for x in np.arange(0,10,2):\n",
    "    print(x)"
   ]
  },
  {
   "cell_type": "code",
   "execution_count": 6,
   "metadata": {},
   "outputs": [
    {
     "name": "stdout",
     "output_type": "stream",
     "text": [
      "1\n",
      "4\n",
      "9\n"
     ]
    }
   ],
   "source": [
    "for x in [1,2,3]:\n",
    "    print(x**2)"
   ]
  },
  {
   "cell_type": "markdown",
   "metadata": {},
   "source": [
    "Now, we need to set a range of x values equal to one. "
   ]
  },
  {
   "cell_type": "code",
   "execution_count": 9,
   "metadata": {},
   "outputs": [
    {
     "data": {
      "image/png": "[encoded data removed]",
      "text/plain": [
       "<matplotlib.figure.Figure at 0x10cbd0208>"
      ]
     },
     "metadata": {},
     "output_type": "display_data"
    }
   ],
   "source": [
    "# Do this by indexing into the array:\n",
    "x_categorical[10:20] = 1\n",
    "plt.plot(x_categorical);"
   ]
  },
  {
   "cell_type": "code",
   "execution_count": 25,
   "metadata": {},
   "outputs": [],
   "source": [
    "class_list = ['Ana Chkhaidze', \n",
    "              'Michael Compton', \n",
    "              'Kara Emery', \n",
    "              'Grant Fairchild', \n",
    "              'Yi Gao', \n",
    "              'Michael Gomez', \n",
    "              'Matt Harrison', \n",
    "              'Desiree Holler', 'Ivana Ilic', 'Jung Min Kim', 'Taissa Lytchenko', 'Stephanie Otto', 'Carissa Romero', \n",
    "              'Alexandra Scurry', \n",
    "              'Joe Z']"
   ]
  },
  {
   "cell_type": "code",
   "execution_count": 26,
   "metadata": {},
   "outputs": [],
   "source": [
    "idx = np.random.permutation(15)"
   ]
  },
  {
   "cell_type": "code",
   "execution_count": 27,
   "metadata": {},
   "outputs": [
    {
     "name": "stdout",
     "output_type": "stream",
     "text": [
      "Alexandra Scurry\n",
      "Carissa Romero\n",
      "Ivana Ilic\n",
      "Taissa Lytchenko\n",
      "Joe Z\n",
      "Kara Emery\n",
      "Desiree Holler\n",
      "Michael Gomez\n",
      "Grant Fairchild\n",
      "Jung Min Kim\n",
      "Yi Gao\n",
      "Michael Compton\n",
      "Matt Harrison\n",
      "Ana Chkhaidze\n",
      "Stephanie Otto\n"
     ]
    }
   ],
   "source": [
    "for ii in idx:\n",
    "    print(class_list[ii])"
   ]
  },
  {
   "cell_type": "code",
   "execution_count": null,
   "metadata": {
    "collapsed": true
   },
   "outputs": [],
   "source": []
  },
  {
   "cell_type": "code",
   "execution_count": null,
   "metadata": {
    "collapsed": true
   },
   "outputs": [],
   "source": []
  }
 ],
 "metadata": {
  "anaconda-cloud": {},
  "kernelspec": {
   "display_name": "Python [py35]",
   "language": "python",
   "name": "Python [py35]"
  },
  "language_info": {
   "codemirror_mode": {
    "name": "ipython",
    "version": 3
   },
   "file_extension": ".py",
   "mimetype": "text/x-python",
   "name": "python",
   "nbconvert_exporter": "python",
   "pygments_lexer": "ipython3",
   "version": "3.5.2"
  }
 },
 "nbformat": 4,
 "nbformat_minor": 1
}
