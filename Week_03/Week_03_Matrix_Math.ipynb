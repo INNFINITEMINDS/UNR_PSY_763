{
 "cells": [
  {
   "cell_type": "markdown",
   "metadata": {},
   "source": [
    " # PSY 763 week 3\n",
    " \n",
    "This week we will:\n",
    "\n",
    "1. Learn how matrix multiplications (and array methods) work in python\n",
    "1. Generate data based on multiple categorical predictors\n",
    "1. "
   ]
  },
  {
   "cell_type": "markdown",
   "metadata": {},
   "source": [
    "## Basic python concepts we will use this week:\n",
    "\n",
    "1. Lists\n",
    "1. Arrays\n",
    "1. Definition of arrays using: `np.array()`, `np.zeros()`, `np.ones()`, `np.random.rand()`, `np.random.randn()`\n",
    "1. Calling array methods\n",
    "1. For loops"
   ]
  },
  {
   "cell_type": "markdown",
   "metadata": {},
   "source": [
    "### 1. Lists"
   ]
  },
  {
   "cell_type": "code",
   "execution_count": 16,
   "metadata": {},
   "outputs": [
    {
     "name": "stdout",
     "output_type": "stream",
     "text": [
      "[1, 2, 6, 9]\n"
     ]
    }
   ],
   "source": [
    "# This is a list. It has four elements. \n",
    "a = [1, 2, 6, 9]\n",
    "# display the list:\n",
    "print(a)"
   ]
  },
  {
   "cell_type": "markdown",
   "metadata": {},
   "source": [
    "A list is a general python structure, and can be used in many contexts. A list can hold strings, numbers, other lists - (nearly) anything you want. For example, a list can hold users of a website:\n",
    "\n",
    "```python\n",
    "users = ['bsmith', 'jdoe', 'sramonycajal']\n",
    "```\n",
    "\n",
    "This means it's a bad idea to try to do math on a list. Multiplication expands the number of items in a list:"
   ]
  },
  {
   "cell_type": "code",
   "execution_count": 18,
   "metadata": {},
   "outputs": [
    {
     "name": "stdout",
     "output_type": "stream",
     "text": [
      "[1, 9, 3, 1, 9, 3, 1, 9, 3]\n"
     ]
    }
   ],
   "source": [
    "# This repeats the list 3 times rather than multiplying the elements by 3\n",
    "test_list = [1, 9, 3]\n",
    "print(test_list * 3)"
   ]
  },
  {
   "cell_type": "code",
   "execution_count": 20,
   "metadata": {},
   "outputs": [
    {
     "name": "stdout",
     "output_type": "stream",
     "text": [
      "next list element is 3\n",
      "next list element is 7\n",
      "next list element is 9\n"
     ]
    }
   ],
   "source": [
    "# Lists can be used for loops\n",
    "test_list = [3, 7, 9]\n",
    "for t in test_list:\n",
    "    print('next list element is', t)"
   ]
  },
  {
   "cell_type": "markdown",
   "metadata": {},
   "source": [
    "### 2. Arrays\n",
    "Arrays are the main type of variable you will use in numpy, and are designed for doing math. "
   ]
  },
  {
   "cell_type": "code",
   "execution_count": 22,
   "metadata": {},
   "outputs": [
    {
     "name": "stdout",
     "output_type": "stream",
     "text": [
      "[1 2 3]\n",
      "[4 5 6]\n"
     ]
    }
   ],
   "source": [
    "# The simplest way to define an array is to make a list of the values you want in it.\n",
    "# the input to np.array is a list:\n",
    "a_list = [1, 2, 3]\n",
    "a = np.array(a_list)\n",
    "# ... but you can condense these two steps to one, thus:\n",
    "b = np.array([4, 5, 6])\n",
    "# When printed, these look like lists...\n",
    "print(a)\n",
    "print(b)\n",
    "# ... but they're not!"
   ]
  },
  {
   "cell_type": "code",
   "execution_count": 23,
   "metadata": {},
   "outputs": [
    {
     "name": "stdout",
     "output_type": "stream",
     "text": [
      "a * 3 =\n",
      "[3 6 9]\n",
      "a * b = \n",
      "[ 4 10 18]\n"
     ]
    }
   ],
   "source": [
    "# arrays can be multiplied by scalars (constants)\n",
    "print('a * 3 =')\n",
    "print(a * 3)\n",
    "# Elementwise multiplication\n",
    "print('a * b = ')\n",
    "print(a * b)"
   ]
  },
  {
   "cell_type": "code",
   "execution_count": 24,
   "metadata": {},
   "outputs": [
    {
     "name": "stdout",
     "output_type": "stream",
     "text": [
      "[[1 2 3]\n",
      " [4 5 6]]\n"
     ]
    }
   ],
   "source": [
    "# Arrays can be 2D as well. Notice that the input to np.array() here is a list of lists\n",
    "c = np.array([[1,2,3],[4,5,6]])\n",
    "print(c)"
   ]
  },
  {
   "cell_type": "code",
   "execution_count": 37,
   "metadata": {},
   "outputs": [
    {
     "name": "stdout",
     "output_type": "stream",
     "text": [
      "shape of c is : (2, 3)\n"
     ]
    }
   ],
   "source": [
    "# You can get the shape of an array using:\n",
    "print('shape of c is :', np.shape(c))\n",
    "# This is just like matlab's `size()` function"
   ]
  },
  {
   "cell_type": "code",
   "execution_count": 39,
   "metadata": {},
   "outputs": [
    {
     "name": "stdout",
     "output_type": "stream",
     "text": [
      "shape of c is :  (2, 3)\n"
     ]
    }
   ],
   "source": [
    "# You can also get the shape of an array by accessing the shape *property* of the array:\n",
    "print('shape of c is: ', c.shape)"
   ]
  },
  {
   "cell_type": "markdown",
   "metadata": {},
   "source": [
    "Arrays (and lists!) have both *properties* and *methods* associated with them. These can be accessed with the following syntax:"
   ]
  },
  {
   "cell_type": "code",
   "execution_count": null,
   "metadata": {
    "collapsed": true
   },
   "outputs": [],
   "source": []
  },
  {
   "cell_type": "code",
   "execution_count": 34,
   "metadata": {},
   "outputs": [
    {
     "name": "stdout",
     "output_type": "stream",
     "text": [
      "(3,)\n",
      "(2, 3)\n"
     ]
    }
   ],
   "source": [
    "# a is an array; `shape` is a property of an array (this is just like matlab's size() function)\n",
    "print(a.shape)\n",
    "print(c.shape)"
   ]
  },
  {
   "cell_type": "code",
   "execution_count": 35,
   "metadata": {},
   "outputs": [
    {
     "name": "stdout",
     "output_type": "stream",
     "text": [
      "[[1 2 3]\n",
      " [4 5 6]]\n"
     ]
    }
   ],
   "source": []
  },
  {
   "cell_type": "code",
   "execution_count": null,
   "metadata": {
    "collapsed": true
   },
   "outputs": [],
   "source": []
  },
  {
   "cell_type": "markdown",
   "metadata": {},
   "source": [
    "# Simple matrix multiplications"
   ]
  },
  {
   "cell_type": "code",
   "execution_count": null,
   "metadata": {
    "collapsed": true
   },
   "outputs": [],
   "source": []
  },
  {
   "cell_type": "code",
   "execution_count": null,
   "metadata": {
    "collapsed": true
   },
   "outputs": [],
   "source": []
  },
  {
   "cell_type": "markdown",
   "metadata": {},
   "source": [
    "# These are like multiplying results and adding up products"
   ]
  },
  {
   "cell_type": "code",
   "execution_count": null,
   "metadata": {
    "collapsed": true
   },
   "outputs": [],
   "source": []
  },
  {
   "cell_type": "markdown",
   "metadata": {},
   "source": [
    "# What is the identity matrix?"
   ]
  },
  {
   "cell_type": "code",
   "execution_count": null,
   "metadata": {
    "collapsed": true
   },
   "outputs": [],
   "source": [
    "a = np.array([])"
   ]
  },
  {
   "cell_type": "code",
   "execution_count": 3,
   "metadata": {
    "collapsed": true
   },
   "outputs": [],
   "source": [
    "# Matrix Inverses"
   ]
  },
  {
   "cell_type": "code",
   "execution_count": 4,
   "metadata": {
    "collapsed": true
   },
   "outputs": [],
   "source": [
    "import numpy as np"
   ]
  },
  {
   "cell_type": "code",
   "execution_count": 5,
   "metadata": {
    "collapsed": true
   },
   "outputs": [],
   "source": [
    "X = np.random.randn(10,3)"
   ]
  },
  {
   "cell_type": "code",
   "execution_count": 6,
   "metadata": {},
   "outputs": [
    {
     "data": {
      "text/plain": [
       "array([[ 0.4076584 , -0.05519555, -1.09129477],\n",
       "       [-0.14774111, -1.25339242,  0.02747861],\n",
       "       [-0.76774853, -0.20413684, -0.67692952],\n",
       "       [ 1.44538544, -1.59724369,  0.47879231],\n",
       "       [ 0.07638661, -0.3198899 , -0.40397661],\n",
       "       [ 0.17441074,  1.78818343,  0.28447882],\n",
       "       [ 1.43733003, -1.21759471, -1.0502065 ],\n",
       "       [ 0.10695358, -0.28110062,  1.34302765],\n",
       "       [ 0.50678588,  0.51152526,  0.56840818],\n",
       "       [ 0.54126398,  0.74758058,  0.96358573]])"
      ]
     },
     "execution_count": 6,
     "metadata": {},
     "output_type": "execute_result"
    }
   ],
   "source": [
    "X"
   ]
  },
  {
   "cell_type": "code",
   "execution_count": 13,
   "metadata": {},
   "outputs": [],
   "source": [
    "xTx = X.T.dot(X)"
   ]
  },
  {
   "cell_type": "code",
   "execution_count": 14,
   "metadata": {},
   "outputs": [
    {
     "data": {
      "text/plain": [
       "array([[  1.00000000e+00,   7.21170192e-17,  -7.05434952e-18],\n",
       "       [  7.97913188e-17,   1.00000000e+00,  -1.78319154e-17],\n",
       "       [  9.35392397e-18,  -3.01958566e-17,   1.00000000e+00]])"
      ]
     },
     "execution_count": 14,
     "metadata": {},
     "output_type": "execute_result"
    }
   ],
   "source": [
    "np.linalg.inv(xTx).dot(xTx)"
   ]
  },
  {
   "cell_type": "code",
   "execution_count": null,
   "metadata": {
    "collapsed": true
   },
   "outputs": [],
   "source": []
  }
 ],
 "metadata": {
  "kernelspec": {
   "display_name": "Python [py35]",
   "language": "python",
   "name": "Python [py35]"
  },
  "language_info": {
   "codemirror_mode": {
    "name": "ipython",
    "version": 3
   },
   "file_extension": ".py",
   "mimetype": "text/x-python",
   "name": "python",
   "nbconvert_exporter": "python",
   "pygments_lexer": "ipython3",
   "version": "3.5.2"
  }
 },
 "nbformat": 4,
 "nbformat_minor": 1
}
