{
 "cells": [
  {
   "cell_type": "markdown",
   "metadata": {},
   "source": [
    " # PSY 763 week 3\n",
    " \n",
    "This week we will:\n",
    "\n",
    "1. Get more familiar with how to generate and index into arrays in python\n",
    "1. Learn how matrix multiplications work in python\n",
    "1. Generate data based on multiple categorical predictors\n",
    "1. Fit $\\beta$ weights for the categorical predictors in an ordinary least squares regression\n",
    "\n",
    "HOLY COW that's a lot - let's get going!"
   ]
  },
  {
   "cell_type": "code",
   "execution_count": 1,
   "metadata": {},
   "outputs": [],
   "source": [
    "# Imports\n",
    "import numpy as np\n",
    "import matplotlib.pyplot as plt\n",
    "%matplotlib inline"
   ]
  },
  {
   "cell_type": "markdown",
   "metadata": {},
   "source": [
    "## Basic python concepts we will use this week:\n",
    "\n",
    "1. Lists\n",
    "1. Arrays\n",
    "1. Definition of arrays using: `np.array()`, `np.zeros()`, `np.ones()`, `np.random.rand()`, `np.random.randn()`\n",
    "1. Calling array methods\n",
    "1. For loops"
   ]
  },
  {
   "cell_type": "markdown",
   "metadata": {},
   "source": [
    "### 1. Lists"
   ]
  },
  {
   "cell_type": "code",
   "execution_count": 2,
   "metadata": {},
   "outputs": [
    {
     "name": "stdout",
     "output_type": "stream",
     "text": [
      "[1, 2, 6, 9]\n"
     ]
    }
   ],
   "source": [
    "# This is a list. It has four elements. \n",
    "a = [1, 2, 6, 9]\n",
    "# display the list:\n",
    "print(a)"
   ]
  },
  {
   "cell_type": "markdown",
   "metadata": {},
   "source": [
    "A list is a general python structure, and can be used in many contexts. A list can hold strings, numbers, other lists - (nearly) anything you want. For example, a list can hold users of a website:\n",
    "\n",
    "```python\n",
    "users = ['bsmith', 'jdoe', 'sramonycajal']\n",
    "```\n",
    "\n",
    "This means it's a bad idea to try to do math on a list. Multiplication expands the number of items in a list:"
   ]
  },
  {
   "cell_type": "code",
   "execution_count": 3,
   "metadata": {},
   "outputs": [
    {
     "name": "stdout",
     "output_type": "stream",
     "text": [
      "[1, 9, 3, 1, 9, 3, 1, 9, 3]\n"
     ]
    }
   ],
   "source": [
    "# This repeats the list 3 times rather than multiplying the elements by 3\n",
    "test_list = [1, 9, 3]\n",
    "print(test_list * 3)"
   ]
  },
  {
   "cell_type": "code",
   "execution_count": 4,
   "metadata": {},
   "outputs": [
    {
     "name": "stdout",
     "output_type": "stream",
     "text": [
      "next list element is 3\n",
      "next list element is 7\n",
      "next list element is 9\n"
     ]
    }
   ],
   "source": [
    "# Lists can be used for loops. Arrays, or any other iterable variable type, can also be used -\n",
    "# just not scalars (individual numbers)\n",
    "test_list = [3, 7, 9]\n",
    "for t in test_list:\n",
    "    print('next list element is', t)"
   ]
  },
  {
   "cell_type": "code",
   "execution_count": 5,
   "metadata": {},
   "outputs": [
    {
     "ename": "TypeError",
     "evalue": "'int' object is not iterable",
     "output_type": "error",
     "traceback": [
      "\u001b[0;31m---------------------------------------------------------------------------\u001b[0m",
      "\u001b[0;31mTypeError\u001b[0m                                 Traceback (most recent call last)",
      "\u001b[0;32m<ipython-input-5-4ba0c6dbadb8>\u001b[0m in \u001b[0;36m<module>\u001b[0;34m()\u001b[0m\n\u001b[1;32m      1\u001b[0m \u001b[0;31m# This fails; the scalar number 3 is not *iterable*\u001b[0m\u001b[0;34m\u001b[0m\u001b[0;34m\u001b[0m\u001b[0m\n\u001b[0;32m----> 2\u001b[0;31m \u001b[0;32mfor\u001b[0m \u001b[0mwtf\u001b[0m \u001b[0;32min\u001b[0m \u001b[0;36m3\u001b[0m\u001b[0;34m:\u001b[0m\u001b[0;34m\u001b[0m\u001b[0m\n\u001b[0m\u001b[1;32m      3\u001b[0m     \u001b[0mprint\u001b[0m\u001b[0;34m(\u001b[0m\u001b[0mwtf\u001b[0m\u001b[0;34m)\u001b[0m\u001b[0;34m\u001b[0m\u001b[0m\n",
      "\u001b[0;31mTypeError\u001b[0m: 'int' object is not iterable"
     ]
    }
   ],
   "source": [
    "# This fails; the scalar number 3 is not *iterable*\n",
    "for wtf in 3:\n",
    "    print(wtf)"
   ]
  },
  {
   "cell_type": "markdown",
   "metadata": {},
   "source": [
    "### 2. Arrays\n",
    "Arrays are the main type of variable you will use in numpy, and are designed for doing math. "
   ]
  },
  {
   "cell_type": "code",
   "execution_count": 6,
   "metadata": {},
   "outputs": [
    {
     "name": "stdout",
     "output_type": "stream",
     "text": [
      "[1 2 3]\n",
      "[4 5 6]\n"
     ]
    }
   ],
   "source": [
    "# The simplest way to define an array is to make a list of the values you want in it.\n",
    "# the input to np.array is a list:\n",
    "a_list = [1, 2, 3]\n",
    "a = np.array(a_list)\n",
    "# ... but you can condense these two steps to one, thus:\n",
    "b = np.array([4, 5, 6])\n",
    "# When printed, these look like lists...\n",
    "print(a)\n",
    "print(b)\n",
    "# ... but they're not!"
   ]
  },
  {
   "cell_type": "code",
   "execution_count": 7,
   "metadata": {},
   "outputs": [
    {
     "name": "stdout",
     "output_type": "stream",
     "text": [
      "a * 3 =\n",
      "[3 6 9]\n",
      "a * b = \n",
      "[ 4 10 18]\n"
     ]
    }
   ],
   "source": [
    "# arrays can be multiplied by scalars (constants)\n",
    "print('a * 3 =')\n",
    "print(a * 3)\n",
    "# Elementwise multiplication\n",
    "print('a * b = ')\n",
    "print(a * b)"
   ]
  },
  {
   "cell_type": "code",
   "execution_count": 8,
   "metadata": {},
   "outputs": [
    {
     "name": "stdout",
     "output_type": "stream",
     "text": [
      "[[1 2 3]\n",
      " [4 5 6]]\n"
     ]
    }
   ],
   "source": [
    "# Arrays can be 2D as well. Notice that the input to np.array() here is a list of lists\n",
    "c = np.array([[1,2,3],[4,5,6]])\n",
    "print(c)"
   ]
  },
  {
   "cell_type": "code",
   "execution_count": 9,
   "metadata": {},
   "outputs": [
    {
     "name": "stdout",
     "output_type": "stream",
     "text": [
      "shape of c is : (2, 3)\n"
     ]
    }
   ],
   "source": [
    "# You can get the shape of an array using:\n",
    "print('shape of c is :', np.shape(c))\n",
    "# This is just like matlab's `size()` function"
   ]
  },
  {
   "cell_type": "code",
   "execution_count": 10,
   "metadata": {},
   "outputs": [
    {
     "name": "stdout",
     "output_type": "stream",
     "text": [
      "shape of c is:  (2, 3)\n"
     ]
    }
   ],
   "source": [
    "# You can also get the shape of an array by accessing the shape *property* of the array:\n",
    "print('shape of c is: ', c.shape)"
   ]
  },
  {
   "cell_type": "markdown",
   "metadata": {},
   "source": [
    "Arrays (and lists!) have both *properties* and *methods* associated with them. These can be accessed with \".\" syntax (`<variable_name>.<property>` or `<variable_name>.<method()>)`), for example:\n",
    "\n",
    "```python\n",
    "c.shape # shape is a property\n",
    "c.T # .T is a method (a shortcut for c.transpose()\n",
    "```\n",
    "\n",
    "*properties* are constants or values associated with an object\n",
    "\n",
    "*methods* are functions that operate on an object (potentially with other inputs)"
   ]
  },
  {
   "cell_type": "code",
   "execution_count": 11,
   "metadata": {},
   "outputs": [
    {
     "name": "stdout",
     "output_type": "stream",
     "text": [
      "plain ol' c:\n",
      "[[1 2 3]\n",
      " [4 5 6]]\n",
      "\n",
      "c, transposed:\n",
      "[[1 4]\n",
      " [2 5]\n",
      " [3 6]]\n"
     ]
    }
   ],
   "source": [
    "print(\"plain ol' c:\")\n",
    "print(c)\n",
    "print('')\n",
    "print('c, transposed:')\n",
    "print(c.T)"
   ]
  },
  {
   "cell_type": "markdown",
   "metadata": {},
   "source": [
    "### 3. Generation of arrays\n",
    "Often, you don't want to define an array by hand (i.e., by typing out the values that should constitute each cell in the array). Instead, you want, for example, to initialize an array to a bunch of zeros, or a bunch of ones, or random numbers, in some particular shape. This is what the following commands are for: \n",
    "\n",
    "```python\n",
    "np.zeros() # All zeros\n",
    "np.ones() # All ones\n",
    "np.linspace() # evenly (linearly) spaced values between some min and max\n",
    "np.arange() # \"array-range\" - a range of numbers between some minimum and some maximum, with a step size specified\n",
    "np.random.rand() # Numbers evenly distributed between 0 and 1\n",
    "np.random.randn() # Random numbers from a standard normal distribution (mean 0, standard deviation 1)\n",
    "np.random.randint() # Random INTEGERS\n",
    "```\n",
    "\n",
    "As always, see the HELP for each of these functions for details about what kind of values are used as arguments to the functions!\n",
    "\n",
    "e.g.:\n",
    "```python\n",
    "# Get help! What do inputs mean??\n",
    "np.ones? \n",
    "```"
   ]
  },
  {
   "cell_type": "code",
   "execution_count": 12,
   "metadata": {},
   "outputs": [
    {
     "name": "stdout",
     "output_type": "stream",
     "text": [
      "[[1. 1. 1.]\n",
      " [1. 1. 1.]\n",
      " [1. 1. 1.]\n",
      " [1. 1. 1.]]\n",
      "\n",
      "[[0.32417348 0.49828658 0.76665155]\n",
      " [0.50675866 0.71604094 0.2348418 ]\n",
      " [0.93021641 0.76264465 0.56071614]\n",
      " [0.10769044 0.66838145 0.85845896]]\n"
     ]
    }
   ],
   "source": [
    "# examples\n",
    "all_ones = np.ones((4,3))\n",
    "print(all_ones)\n",
    "\n",
    "print('')\n",
    "\n",
    "random_uniform = np.random.rand(4,3)\n",
    "print(random_uniform)"
   ]
  },
  {
   "cell_type": "markdown",
   "metadata": {},
   "source": [
    "### Array indexing\n",
    "To select values from an array, you use brackets (`[]`)"
   ]
  },
  {
   "cell_type": "code",
   "execution_count": 13,
   "metadata": {},
   "outputs": [
    {
     "name": "stdout",
     "output_type": "stream",
     "text": [
      "8\n"
     ]
    }
   ],
   "source": [
    "# Define a vector X\n",
    "X = np.array([2, 4, 5, 8, 3, 1, 9])\n",
    "print(X[3])"
   ]
  },
  {
   "cell_type": "markdown",
   "metadata": {},
   "source": [
    "Remember, python uses zero-based indexing, so the first value in the array is index 0, the second is 1, etc! THIS IS NEARLY GUARANTEED TO MIX YOU UP IF YOU COME FROM MATLAB. But it's useful! and good for you! and you will see why as we go.\n",
    "\n",
    "You can select ranges of values from an array using slightly different syntax. For example, to select the 2nd, 3rd, and 4th values in a vector array `X`, you would do the following:"
   ]
  },
  {
   "cell_type": "code",
   "execution_count": 14,
   "metadata": {},
   "outputs": [
    {
     "name": "stdout",
     "output_type": "stream",
     "text": [
      "[2 4 5 8 3 1 9]\n",
      "[4 5 8]\n"
     ]
    }
   ],
   "source": [
    "print(X)\n",
    "print(X[1:4])"
   ]
  },
  {
   "cell_type": "code",
   "execution_count": 15,
   "metadata": {},
   "outputs": [
    {
     "name": "stdout",
     "output_type": "stream",
     "text": [
      "[2 4 5 8 3 1 9]\n",
      "[3 1 9]\n"
     ]
    }
   ],
   "source": [
    "# For the last n values:\n",
    "print(X)\n",
    "print(X[-3:])"
   ]
  },
  {
   "cell_type": "code",
   "execution_count": null,
   "metadata": {},
   "outputs": [],
   "source": [
    "# For the first n values:\n",
    "print(X)\n",
    "print(X[:3])"
   ]
  },
  {
   "cell_type": "code",
   "execution_count": null,
   "metadata": {},
   "outputs": [],
   "source": [
    "# For every other value:\n",
    "print(X)\n",
    "print(X[::2])"
   ]
  },
  {
   "cell_type": "markdown",
   "metadata": {},
   "source": [
    "Note that for all of the above, the pattern is [start_index:end_index:step]. Any of these left blank are assumed to be the beginning of the array, the end of the array, and 1, respectively. \n",
    "\n",
    "Now, you try it! "
   ]
  },
  {
   "cell_type": "markdown",
   "metadata": {},
   "source": [
    "# Exercises"
   ]
  },
  {
   "cell_type": "code",
   "execution_count": 17,
   "metadata": {},
   "outputs": [
    {
     "name": "stdout",
     "output_type": "stream",
     "text": [
      "[2 4 5 8 3 1 9]\n",
      "[4 8 1]\n"
     ]
    }
   ],
   "source": [
    "# Print every other value, starting with the SECOND value in the array (i.e. starting with the 4)\n",
    "print(X)\n",
    "print(X[1::2]) "
   ]
  },
  {
   "cell_type": "markdown",
   "metadata": {},
   "source": [
    "Note: This is a useful trick that gets used fairly often!"
   ]
  },
  {
   "cell_type": "code",
   "execution_count": null,
   "metadata": {},
   "outputs": [],
   "source": [
    "# Print all the values in X in reverse order\n",
    "print(X[::-1]) "
   ]
  },
  {
   "cell_type": "markdown",
   "metadata": {},
   "source": [
    "You can index multi-dimensional arrays the same way, with one value per "
   ]
  },
  {
   "cell_type": "code",
   "execution_count": 64,
   "metadata": {},
   "outputs": [
    {
     "name": "stdout",
     "output_type": "stream",
     "text": [
      "X:\n",
      "[[ 0.10977965 -0.3080965   0.52585974 -1.11213462]\n",
      " [ 0.11672862  1.15596105  0.27366289  0.40922797]\n",
      " [-0.77926644  0.05598618  0.7485935  -2.47430855]\n",
      " [ 0.04129035 -0.51103628 -0.05419392 -0.81158502]\n",
      " [-0.29868917 -1.13240317  0.46917807  0.49653186]\n",
      " [-0.3189268   0.25930116  0.89376368  0.05045801]\n",
      " [-0.52987158  0.17234612  1.17117561 -2.23028899]\n",
      " [ 0.50477306 -0.97398862 -1.82264529  1.47231303]\n",
      " [ 0.86407772 -1.4802829   0.2579282  -0.46361162]\n",
      " [ 1.65165712  0.42982388  0.78490471 -0.56481666]]\n",
      "\n",
      "Just the values in 2nd column, as a 1D vector\n",
      "[ 0.52585974  0.27366289  0.7485935  -0.05419392  0.46917807  0.89376368\n",
      "  1.17117561 -1.82264529  0.2579282   0.78490471]\n",
      "\n",
      "X[:,2] as a column vector, option 1:\n",
      "[[ 0.52585974]\n",
      " [ 0.27366289]\n",
      " [ 0.7485935 ]\n",
      " [-0.05419392]\n",
      " [ 0.46917807]\n",
      " [ 0.89376368]\n",
      " [ 1.17117561]\n",
      " [-1.82264529]\n",
      " [ 0.2579282 ]\n",
      " [ 0.78490471]]\n",
      "\n",
      "X[:,2] as a column vector, option 2a:\n",
      "[[ 0.52585974]\n",
      " [ 0.27366289]\n",
      " [ 0.7485935 ]\n",
      " [-0.05419392]\n",
      " [ 0.46917807]\n",
      " [ 0.89376368]\n",
      " [ 1.17117561]\n",
      " [-1.82264529]\n",
      " [ 0.2579282 ]\n",
      " [ 0.78490471]]\n",
      "\n",
      "X[:,2] as a column vector, option 2b:\n",
      "[[ 0.52585974]\n",
      " [ 0.27366289]\n",
      " [ 0.7485935 ]\n",
      " [-0.05419392]\n",
      " [ 0.46917807]\n",
      " [ 0.89376368]\n",
      " [ 1.17117561]\n",
      " [-1.82264529]\n",
      " [ 0.2579282 ]\n",
      " [ 0.78490471]]\n"
     ]
    }
   ],
   "source": [
    "# Create a 2D array of shape (10,4), print the array, and then print all values in the 2nd (index=2) column\n",
    "print(\"X:\")\n",
    "X_2d = np.random.randn(10,4)\n",
    "print(X_2d)\n",
    "# (the \\n is a formatting command that leaves an extra line!)\n",
    "print(\"\\nJust the values in 2nd column, as a 1D vector\")\n",
    "print(X_2d[:,2])\n",
    "# Note: to maintain shape of one column as a column vector:\n",
    "print(\"\\nX[:,2] as a column vector, option 1:\")\n",
    "print(X_2d[:,2:3])\n",
    "print(\"\\nX[:,2] as a column vector, option 2a:\")\n",
    "tmp = X_2d[:,2]\n",
    "print(tmp[:, np.newaxis])\n",
    "# Or you can combine these steps into one line:\n",
    "print(\"\\nX[:,2] as a column vector, option 2b:\")\n",
    "print(X_2d[:,2][:, np.newaxis])"
   ]
  },
  {
   "cell_type": "code",
   "execution_count": null,
   "metadata": {},
   "outputs": [],
   "source": [
    "# What is the difference between the following two lines?\n",
    "A = X_2d[:4, 0]\n",
    "B = X_2d[:4, :1]\n",
    "# (see what A and B are. Why would this difference be useful?)"
   ]
  },
  {
   "cell_type": "markdown",
   "metadata": {},
   "source": [
    "Make a design matrix! Last week, we created a single predictor of ones and zeros. Now, create a 2D array, in which each column is a predictor. \n",
    "\n",
    "Useful functions to combine arrays are: \n",
    "\n",
    "```python\n",
    "np.hstack()\n",
    "np.vstack()\n",
    "np.concatenate()\n",
    "```\n",
    "\n",
    "Look up the help for these functions to see what they do!\n",
    "```python\n",
    "np.hstack?\n",
    "```"
   ]
  },
  {
   "cell_type": "code",
   "execution_count": 18,
   "metadata": {},
   "outputs": [],
   "source": [
    "# Function to define indicator variable that we used last week: \n",
    "def define_indicator(n_timepoints, onsets, duration):\n",
    "    \"\"\"Defines an indicator variable given onsets and constant durations\n",
    "    \n",
    "    Parameters\n",
    "    ----------\n",
    "    n_timepoints : scalar, int\n",
    "        number of timepoints in timecourse of predictor\n",
    "    onsets : array-like \n",
    "        list or array of indices for onsets of conditions\n",
    "    duration : scalar\n",
    "        number of indices in timecourse for which conditions are \"on\"\n",
    "    \"\"\"\n",
    "    x = np.zeros(n_timepoints)\n",
    "    for on in onsets:\n",
    "        # Note that this was changed to += 1 instead of = 1 - what does that do??\n",
    "        x[on:on+duration] += 1\n",
    "    return x"
   ]
  },
  {
   "cell_type": "code",
   "execution_count": 23,
   "metadata": {},
   "outputs": [],
   "source": [
    "# Create a design matrix!\n",
    "# Define variables\n",
    "n_timepoints = 100\n",
    "onsets = [[10, 30, 38, 58, 82],\n",
    "          [18, 47, 68, 75, 90]]\n",
    "duration = 6\n",
    "\n",
    "iv1 = define_indicator(n_timepoints, onsets[0], duration)\n",
    "iv2 = define_indicator(n_timepoints, onsets[1], duration)\n",
    "X = np.hstack([iv1[:, np.newaxis], iv2[:, np.newaxis]])"
   ]
  },
  {
   "cell_type": "code",
   "execution_count": 65,
   "metadata": {},
   "outputs": [
    {
     "name": "stdout",
     "output_type": "stream",
     "text": [
      "(100, 2)\n"
     ]
    },
    {
     "data": {
      "image/png": "[encoded data removed]",
      "text/plain": [
       "<matplotlib.figure.Figure at 0x7fe6e8682470>"
      ]
     },
     "metadata": {},
     "output_type": "display_data"
    },
    {
     "data": {
      "image/png": "[encoded data removed]",
      "text/plain": [
       "<matplotlib.figure.Figure at 0x7fe6e8a62a58>"
      ]
     },
     "metadata": {},
     "output_type": "display_data"
    }
   ],
   "source": [
    "# Show design matrix!\n",
    "print(X.shape)\n",
    "plt.figure();\n",
    "plt.plot(X);\n",
    "plt.figure();\n",
    "# The extra keyword arguments here (aspect and interpolation) change defaults for imshow\n",
    "plt.imshow(X, aspect='auto', interpolation='nearest');"
   ]
  },
  {
   "cell_type": "markdown",
   "metadata": {},
   "source": [
    "# Simple matrix multiplications\n",
    "Matrix multiplication is NOT the default for arrays (as it is in matlab). So if `A` and `B` are arrays, multiplying them with `*` will get you the *element-wise product*:"
   ]
  },
  {
   "cell_type": "code",
   "execution_count": 72,
   "metadata": {},
   "outputs": [
    {
     "name": "stdout",
     "output_type": "stream",
     "text": [
      "A\n",
      "[[3 3 3]\n",
      " [2 2 2]\n",
      " [1 1 3]\n",
      " [2 1 1]]\n",
      "B\n",
      "[[2 1 3]\n",
      " [2 3 2]\n",
      " [3 0 2]\n",
      " [2 3 0]]\n",
      "Element-wise product:\n",
      "[[6 3 9]\n",
      " [4 6 4]\n",
      " [3 0 6]\n",
      " [4 3 0]]\n"
     ]
    }
   ],
   "source": [
    "A = np.random.randint(0, 4, size=(4,3))\n",
    "B = np.random.randint(0, 4, size=(4,3))\n",
    "print('A')\n",
    "print(A)\n",
    "print('B')\n",
    "print(B)\n",
    "print('Element-wise product:')\n",
    "print(A*B)"
   ]
  },
  {
   "cell_type": "markdown",
   "metadata": {},
   "source": [
    "Note that there's a lot more complexity here in python - it's possible to multiply arrays of different sizes by \"broadcasting\", like this: "
   ]
  },
  {
   "cell_type": "code",
   "execution_count": 73,
   "metadata": {},
   "outputs": [
    {
     "name": "stdout",
     "output_type": "stream",
     "text": [
      "A\n",
      "[[0 3 1]]\n",
      "B\n",
      "[[0 1 1]\n",
      " [0 2 1]\n",
      " [1 2 3]\n",
      " [2 0 3]]\n",
      "Element-wise product:\n",
      "[[0 3 1]\n",
      " [0 6 1]\n",
      " [0 6 3]\n",
      " [0 0 3]]\n"
     ]
    }
   ],
   "source": [
    "A = np.random.randint(0, 4, size=(1,3))\n",
    "B = np.random.randint(0, 4, size=(4,3))\n",
    "print('A')\n",
    "print(A)\n",
    "print('B')\n",
    "print(B)\n",
    "print('Element-wise product:')\n",
    "print(A*B)"
   ]
  },
  {
   "cell_type": "markdown",
   "metadata": {},
   "source": [
    "... but the rows / columns have to match up - you have to be able to turn one array into the other array by simply replicating it a bunch of times in one dimension (no transpositions!)"
   ]
  },
  {
   "cell_type": "code",
   "execution_count": 77,
   "metadata": {},
   "outputs": [
    {
     "name": "stdout",
     "output_type": "stream",
     "text": [
      "A\n",
      "[[1]\n",
      " [1]\n",
      " [3]]\n",
      "B\n",
      "[[3 3 0]\n",
      " [1 0 3]\n",
      " [0 3 1]\n",
      " [1 3 3]]\n",
      "Element-wise product:\n"
     ]
    },
    {
     "ename": "ValueError",
     "evalue": "operands could not be broadcast together with shapes (4,3) (3,1) ",
     "output_type": "error",
     "traceback": [
      "\u001b[0;31m---------------------------------------------------------------------------\u001b[0m",
      "\u001b[0;31mValueError\u001b[0m                                Traceback (most recent call last)",
      "\u001b[0;32m<ipython-input-77-02cbfd10b786>\u001b[0m in \u001b[0;36m<module>\u001b[0;34m()\u001b[0m\n\u001b[1;32m      6\u001b[0m \u001b[0mprint\u001b[0m\u001b[0;34m(\u001b[0m\u001b[0mB\u001b[0m\u001b[0;34m)\u001b[0m\u001b[0;34m\u001b[0m\u001b[0m\n\u001b[1;32m      7\u001b[0m \u001b[0mprint\u001b[0m\u001b[0;34m(\u001b[0m\u001b[0;34m'Element-wise product:'\u001b[0m\u001b[0;34m)\u001b[0m\u001b[0;34m\u001b[0m\u001b[0m\n\u001b[0;32m----> 8\u001b[0;31m \u001b[0mprint\u001b[0m\u001b[0;34m(\u001b[0m\u001b[0mB\u001b[0m\u001b[0;34m*\u001b[0m\u001b[0mA\u001b[0m\u001b[0;34m)\u001b[0m\u001b[0;34m\u001b[0m\u001b[0m\n\u001b[0m",
      "\u001b[0;31mValueError\u001b[0m: operands could not be broadcast together with shapes (4,3) (3,1) "
     ]
    }
   ],
   "source": [
    "# This will fail, because an array of size (3,1) cannot be tiled out to size (4,3)\n",
    "A = np.random.randint(0, 4, size=(3,1))\n",
    "B = np.random.randint(0, 4, size=(4,3))\n",
    "print('A')\n",
    "print(A)\n",
    "print('B')\n",
    "print(B)\n",
    "print('Element-wise product:')\n",
    "print(B*A)"
   ]
  },
  {
   "cell_type": "markdown",
   "metadata": {
    "collapsed": true
   },
   "source": [
    "# BREAK FOR LOTS OF CHALKBOARD TALK"
   ]
  },
  {
   "cell_type": "markdown",
   "metadata": {},
   "source": [
    "Matrix multiplications are done using `np.dot()`, or,  equivalently, the .dot() method of arrays. \n",
    "\n",
    "The following is a python instantiation of the formula: \n",
    "\n",
    "# $A^TB$"
   ]
  },
  {
   "cell_type": "code",
   "execution_count": 68,
   "metadata": {},
   "outputs": [
    {
     "name": "stdout",
     "output_type": "stream",
     "text": [
      "[[2 9 2]\n",
      " [2 5 7]\n",
      " [1 6 4]\n",
      " [9 6 8]]\n",
      "\n",
      "[[5 7 8]\n",
      " [8 9 0]\n",
      " [6 0 5]\n",
      " [2 3 5]]\n",
      "\n",
      "[[ 50  59  66]\n",
      " [133 126 132]\n",
      " [106 101  76]]\n"
     ]
    }
   ],
   "source": [
    "ATB = A.T.dot(B)\n",
    "print(A)\n",
    "print('')\n",
    "print(B)\n",
    "print('')\n",
    "print(ATB)"
   ]
  },
  {
   "cell_type": "markdown",
   "metadata": {},
   "source": [
    "Some convenient uses of matrix multiplication:"
   ]
  },
  {
   "cell_type": "code",
   "execution_count": 87,
   "metadata": {},
   "outputs": [
    {
     "name": "stdout",
     "output_type": "stream",
     "text": [
      "A\n",
      "[[3 4]\n",
      " [0 3]\n",
      " [4 2]\n",
      " [4 3]\n",
      " [0 0]]\n",
      "B\n",
      "[[0. 0. 1. 1. 0.]]\n",
      "Select by index and sum:\n",
      "[8 5]\n",
      "Sum by matrix multiplication:\n",
      "[[8. 5.]]\n"
     ]
    }
   ],
   "source": [
    "# Sum up the values of particular rows or columns of an array:\n",
    "A = np.random.randint(0, 5, size=(5,2))\n",
    "B = np.zeros((1,5))\n",
    "B[:, 2:4] = 1\n",
    "print('A')\n",
    "print(A)\n",
    "print('B')\n",
    "print(B)\n",
    "print('Select by index and sum:')\n",
    "print(np.sum(A[2:4,:], axis=0))\n",
    "print(('Sum by matrix multiplication:'))\n",
    "print(B.dot(A))"
   ]
  },
  {
   "cell_type": "code",
   "execution_count": 90,
   "metadata": {},
   "outputs": [
    {
     "name": "stdout",
     "output_type": "stream",
     "text": [
      "A\n",
      "[[3 3]\n",
      " [4 0]\n",
      " [1 3]\n",
      " [4 1]\n",
      " [2 2]]\n",
      "B\n",
      "[[-1. -1. -1.  1.  1.]]\n",
      "Select by index and sum:\n",
      "[-2 -3]\n",
      "Sum by matrix multiplication:\n",
      "[[-2. -3.]]\n"
     ]
    }
   ],
   "source": [
    "# Subtraction by matrix multiplication:\n",
    "# Subtract the sum of rows 1, 2, and 3 from the sum of rows 4 and 5\n",
    "A = np.random.randint(0, 5, size=(5,2))\n",
    "B = np.hstack([-1 * np.ones((1,3)), np.ones((1,2))])\n",
    "print('A')\n",
    "print(A)\n",
    "print('B')\n",
    "print(B)\n",
    "print('Select by index and sum:')\n",
    "print(np.sum(A[3:], axis=0) - np.sum(A[:3,:], axis=0))\n",
    "print(('Sum by matrix multiplication:'))\n",
    "print(B.dot(A))"
   ]
  },
  {
   "cell_type": "markdown",
   "metadata": {},
   "source": [
    "NOTE: This is how we can compute "
   ]
  },
  {
   "cell_type": "markdown",
   "metadata": {},
   "source": [
    "Side note: what is the identity matrix?"
   ]
  },
  {
   "cell_type": "code",
   "execution_count": null,
   "metadata": {},
   "outputs": [],
   "source": [
    "I = np.eye(4)\n",
    "print(I)"
   ]
  },
  {
   "cell_type": "code",
   "execution_count": null,
   "metadata": {},
   "outputs": [],
   "source": [
    "A = np.random.randint(0, 10, size=(3,4)).astype(np.float)\n",
    "print(\"A\")\n",
    "print(A)\n",
    "print('A * I')\n",
    "print(A.dot(I))"
   ]
  },
  {
   "cell_type": "markdown",
   "metadata": {},
   "source": [
    "Side note: what does inversion do?"
   ]
  },
  {
   "cell_type": "code",
   "execution_count": 103,
   "metadata": {},
   "outputs": [
    {
     "name": "stdout",
     "output_type": "stream",
     "text": [
      "(7, 3)\n",
      "(3, 3)\n",
      "[[1.00000000e+00 1.83412212e-16 2.99233333e-17]\n",
      " [6.04370878e-17 1.00000000e+00 9.46444006e-17]\n",
      " [2.21764397e-17 1.46565827e-16 1.00000000e+00]]\n"
     ]
    }
   ],
   "source": [
    "# Start with a random array\n",
    "X = np.random.randn(7,3)\n",
    "print(X.shape)\n",
    "# Multiply the array by its transpose to make it a square array\n",
    "xtx = X.T.dot(X)\n",
    "print(xtx.shape)\n",
    "# This gives\n",
    "nearly_i = np.linalg.inv(xtx).dot(xtx)\n",
    "print(nearly_i)"
   ]
  },
  {
   "cell_type": "markdown",
   "metadata": {},
   "source": [
    "Why does this work? **BLACKBOARD**"
   ]
  },
  {
   "cell_type": "markdown",
   "metadata": {
    "collapsed": true
   },
   "source": [
    "# Generate data! \n",
    "Our model for fMRI data is that $Y = X\\beta + \\epsilon$, right? \n",
    "\n",
    "So, from the X you already have, specify some $\\beta$ weights, some noise, and generate a Y!"
   ]
  },
  {
   "cell_type": "code",
   "execution_count": 94,
   "metadata": {},
   "outputs": [],
   "source": [
    "# Create Y\n",
    "# Define arbitrary B values\n",
    "B = np.array([[3],[4]])\n",
    "Y = X.dot(B)\n",
    "# Add noise!\n",
    "E = np.random.randn(*Y.shape)\n",
    "Y = Y + E\n"
   ]
  },
  {
   "cell_type": "code",
   "execution_count": 97,
   "metadata": {},
   "outputs": [
    {
     "data": {
      "image/png": "[encoded data removed]",
      "text/plain": [
       "<matplotlib.figure.Figure at 0x7fe6e8aef6d8>"
      ]
     },
     "metadata": {},
     "output_type": "display_data"
    }
   ],
   "source": [
    "# Show the data you generated!\n",
    "plt.plot(Y);"
   ]
  },
  {
   "cell_type": "markdown",
   "metadata": {},
   "source": [
    "# Fit the data! \n",
    "\n",
    "The equation to estimate $\\beta$ weights from data ($Y$) and a design matrix ($X$) is:\n",
    "\n",
    "## $\\beta = (X^TX)^{-1}X^TY$\n",
    "\n",
    "So, let's do that in python! You already have X and Y, the only thing you need to know is how to invert a matrix. You can use: \n",
    "\n",
    "```python\n",
    "np.linalg.inv()\n",
    "```\n",
    "to do this!\n",
    "\n",
    "Not as complicated as it sounds, at this point! Give it a try!\n"
   ]
  },
  {
   "cell_type": "code",
   "execution_count": 98,
   "metadata": {},
   "outputs": [],
   "source": [
    "# To put that formula into python:\n",
    "B_est = np.linalg.inv(X.T.dot(X)).dot(X.T.dot(Y))"
   ]
  },
  {
   "cell_type": "code",
   "execution_count": 99,
   "metadata": {},
   "outputs": [
    {
     "data": {
      "text/plain": [
       "array([[2.96858567],\n",
       "       [4.02874592]])"
      ]
     },
     "execution_count": 99,
     "metadata": {},
     "output_type": "execute_result"
    }
   ],
   "source": [
    "B_est"
   ]
  },
  {
   "cell_type": "markdown",
   "metadata": {},
   "source": [
    "### Visualize what you have just modeled! "
   ]
  },
  {
   "cell_type": "code",
   "execution_count": 101,
   "metadata": {},
   "outputs": [
    {
     "data": {
      "image/png": "[encoded data removed]",
      "text/plain": [
       "<matplotlib.figure.Figure at 0x7fe6e86c0a20>"
      ]
     },
     "metadata": {},
     "output_type": "display_data"
    }
   ],
   "source": [
    "\n",
    "Y_est = X.dot(B)\n",
    "plt.plot(Y, label='Simulated data')\n",
    "plt.plot(Y_est, label='Model fit')\n",
    "plt.legend();"
   ]
  },
  {
   "cell_type": "markdown",
   "metadata": {},
   "source": [
    "# Useful exercises\n",
    "Not homework, because not for credit, but useful..."
   ]
  },
  {
   "cell_type": "markdown",
   "metadata": {},
   "source": [
    "1. Generate a new X by adding a column of ones to the left side of your original X. Generate a new, different set of beta values for this X. "
   ]
  },
  {
   "cell_type": "code",
   "execution_count": null,
   "metadata": {},
   "outputs": [],
   "source": []
  },
  {
   "cell_type": "code",
   "execution_count": null,
   "metadata": {},
   "outputs": [],
   "source": []
  },
  {
   "cell_type": "code",
   "execution_count": 54,
   "metadata": {},
   "outputs": [
    {
     "data": {
      "image/png": "[encoded data removed]",
      "text/plain": [
       "<matplotlib.figure.Figure at 0x7fe6e8741dd8>"
      ]
     },
     "metadata": {},
     "output_type": "display_data"
    }
   ],
   "source": [
    "alpha = np.logspace(np.log10(0.0001), np.log10(0.01), 100)\n",
    "plt.plot(alpha)\n",
    "n = 10000"
   ]
  },
  {
   "cell_type": "code",
   "execution_count": 55,
   "metadata": {},
   "outputs": [
    {
     "data": {
      "text/plain": [
       "Text(0.5,0,'$\\\\alpha$')"
      ]
     },
     "execution_count": 55,
     "metadata": {},
     "output_type": "execute_result"
    },
    {
     "data": {
      "image/png": "[encoded data removed]",
      "text/plain": [
       "<matplotlib.figure.Figure at 0x7fe6e8ca48d0>"
      ]
     },
     "metadata": {},
     "output_type": "display_data"
    }
   ],
   "source": [
    "plt.loglog(alpha, 1-(1-alpha)**n)\n",
    "plt.plot()\n",
    "plt.xlabel('$\\\\alpha$', fontsize=20)"
   ]
  },
  {
   "cell_type": "code",
   "execution_count": null,
   "metadata": {},
   "outputs": [],
   "source": []
  },
  {
   "cell_type": "markdown",
   "metadata": {},
   "source": [
    "# Regression and correlation"
   ]
  },
  {
   "cell_type": "markdown",
   "metadata": {},
   "source": [
    "## $r = \\frac{\\sum_{i=1}^{n}(x_i - \\bar{x})(y_i-\\bar{y})}{\\sqrt{\\sum_{i=1}^{n}(x_i-\\bar{x})^2(y_i-\\bar{y})^2}}$\n",
    "\n",
    "Let's replace some terms here with things you might be more familiar with. Remember:\n",
    "\n",
    "Mean of $x$ = $\\mu_x$ = $\\bar{x}$\n",
    "\n",
    "Standard deviation of $x$ = $\\sigma_x$ = $\\sqrt{\\sum_{i=1}^{n}(x_i-\\bar{x})^2}$\n",
    "\n",
    "So the forumla becomes:\n",
    "\n",
    "## $r = \\frac{\\sum_{i=1}^{n}(x_i - \\mu_x)(y_i-\\mu_y)}{\\sigma_x\\sigma_y}$\n",
    "\n",
    "This still may seem a bit daunting, but a simple trick can simplify the forumla even more. Watch what happens if you z-transform $X$ and $Y$ (subtract the mean of each, divide by the respective standard deviations). Then $\\mu_x = 0$, $\\mu_y = 0$, $\\sigma_x = 1$, and $\\sigma_y = 1$, so:\n",
    "\n",
    "## $r = \\frac{\\sum_{i=1}^{n}(z(x_i) - 0)(z(y_i)-0)}{1*1}$\n",
    "\n",
    "so:\n",
    "\n",
    "## $r = \\sum_{i=1}^{n}z(x_i)z(y_i)$\n",
    "\n",
    "... which is the same as:\n",
    "\n",
    "## $r = \\frac{z(X)^Tz(Y)}{n}$\n",
    "\n",
    "In other words, if we assume that X and Y are z-normalized, then we can see that the $\\beta$ estimates derived from regression analysis are very closely related to the correlations between each regressor (each column in X) and each column in Y:\n",
    "\n",
    "## $r =  X^TY$\n",
    "## $\\beta = (X^TX)^{-1}X^TY$\n",
    "\n",
    "... execpt for that pesky term \n",
    "\n",
    "## $(X^TX)^{-1}$\n",
    "\n",
    "... which we will discuss more later."
   ]
  },
  {
   "cell_type": "code",
   "execution_count": null,
   "metadata": {},
   "outputs": [],
   "source": []
  },
  {
   "cell_type": "code",
   "execution_count": null,
   "metadata": {},
   "outputs": [],
   "source": []
  },
  {
   "cell_type": "markdown",
   "metadata": {},
   "source": [
    "# $ {}$"
   ]
  },
  {
   "cell_type": "code",
   "execution_count": 105,
   "metadata": {},
   "outputs": [],
   "source": [
    "from scipy.stats import zscore\n",
    "X = np.random.randn(140, 35)\n",
    "Y = np.random.randn(140, 50)\n",
    "# Just to be sure\n",
    "X = zscore(X, axis=0)\n",
    "Y = zscore(Y, axis=0)\n",
    "\n",
    "xTy = X.T.dot(Y)\n",
    "\n",
    "corr_xy = np.corrcoef(X.T, Y.T)"
   ]
  },
  {
   "cell_type": "code",
   "execution_count": 106,
   "metadata": {},
   "outputs": [
    {
     "data": {
      "text/plain": [
       "(85, 85)"
      ]
     },
     "execution_count": 106,
     "metadata": {},
     "output_type": "execute_result"
    }
   ],
   "source": [
    "corr_xy.shape"
   ]
  },
  {
   "cell_type": "code",
   "execution_count": 107,
   "metadata": {},
   "outputs": [
    {
     "data": {
      "text/plain": [
       "(35, 50)"
      ]
     },
     "execution_count": 107,
     "metadata": {},
     "output_type": "execute_result"
    }
   ],
   "source": [
    "xTy.shape"
   ]
  },
  {
   "cell_type": "code",
   "execution_count": 108,
   "metadata": {},
   "outputs": [
    {
     "data": {
      "text/plain": [
       "(140, 35)"
      ]
     },
     "execution_count": 108,
     "metadata": {},
     "output_type": "execute_result"
    }
   ],
   "source": [
    "X.shape"
   ]
  },
  {
   "cell_type": "code",
   "execution_count": 109,
   "metadata": {},
   "outputs": [
    {
     "data": {
      "text/plain": [
       "(140, 50)"
      ]
     },
     "execution_count": 109,
     "metadata": {},
     "output_type": "execute_result"
    }
   ],
   "source": [
    "Y.shape"
   ]
  },
  {
   "cell_type": "code",
   "execution_count": 111,
   "metadata": {},
   "outputs": [
    {
     "data": {
      "text/plain": [
       "(50, 35)"
      ]
     },
     "execution_count": 111,
     "metadata": {},
     "output_type": "execute_result"
    }
   ],
   "source": [
    "corr_xy[35:, :35].shape"
   ]
  },
  {
   "cell_type": "code",
   "execution_count": 114,
   "metadata": {},
   "outputs": [
    {
     "data": {
      "text/plain": [
       "array([[ 0.02850042,  0.08155976, -0.08980663, ..., -0.07042039,\n",
       "         0.265556  , -0.13749731],\n",
       "       [-0.01510598,  0.0488639 ,  0.03883616, ...,  0.01490951,\n",
       "        -0.05551436, -0.01647308],\n",
       "       [-0.07835558,  0.00511257,  0.12917882, ..., -0.01078254,\n",
       "         0.08563294,  0.02236239],\n",
       "       ...,\n",
       "       [-0.05532597,  0.17323102, -0.08922345, ...,  0.08435379,\n",
       "         0.09378617,  0.03672309],\n",
       "       [ 0.01296585,  0.01429807, -0.0220263 , ...,  0.11100669,\n",
       "        -0.09228017, -0.00151699],\n",
       "       [ 0.06681394, -0.04846829, -0.07378735, ...,  0.04339476,\n",
       "        -0.01787108, -0.05802017]])"
      ]
     },
     "execution_count": 114,
     "metadata": {},
     "output_type": "execute_result"
    }
   ],
   "source": [
    "xTy / 140"
   ]
  },
  {
   "cell_type": "code",
   "execution_count": 115,
   "metadata": {},
   "outputs": [
    {
     "data": {
      "text/plain": [
       "array([[ 0.02850042,  0.08155976, -0.08980663, ..., -0.07042039,\n",
       "         0.265556  , -0.13749731],\n",
       "       [-0.01510598,  0.0488639 ,  0.03883616, ...,  0.01490951,\n",
       "        -0.05551436, -0.01647308],\n",
       "       [-0.07835558,  0.00511257,  0.12917882, ..., -0.01078254,\n",
       "         0.08563294,  0.02236239],\n",
       "       ...,\n",
       "       [-0.05532597,  0.17323102, -0.08922345, ...,  0.08435379,\n",
       "         0.09378617,  0.03672309],\n",
       "       [ 0.01296585,  0.01429807, -0.0220263 , ...,  0.11100669,\n",
       "        -0.09228017, -0.00151699],\n",
       "       [ 0.06681394, -0.04846829, -0.07378735, ...,  0.04339476,\n",
       "        -0.01787108, -0.05802017]])"
      ]
     },
     "execution_count": 115,
     "metadata": {},
     "output_type": "execute_result"
    }
   ],
   "source": [
    "corr_xy[35:, :35].T"
   ]
  },
  {
   "cell_type": "code",
   "execution_count": null,
   "metadata": {},
   "outputs": [],
   "source": []
  }
 ],
 "metadata": {
  "kernelspec": {
   "display_name": "Python 3",
   "language": "python",
   "name": "python3"
  },
  "language_info": {
   "codemirror_mode": {
    "name": "ipython",
    "version": 3
   },
   "file_extension": ".py",
   "mimetype": "text/x-python",
   "name": "python",
   "nbconvert_exporter": "python",
   "pygments_lexer": "ipython3",
   "version": "3.5.2"
  }
 },
 "nbformat": 4,
 "nbformat_minor": 1
}
