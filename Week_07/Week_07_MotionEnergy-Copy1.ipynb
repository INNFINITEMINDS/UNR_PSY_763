{
 "cells": [
  {
   "cell_type": "markdown",
   "metadata": {},
   "source": [
    "This week we will compute motion energy in a set of movies"
   ]
  },
  {
   "cell_type": "code",
   "execution_count": null,
   "metadata": {},
   "outputs": [],
   "source": [
    "import matplotlib.pyplot as plt\n",
    "import numpy as np\n",
    "from skimage import transform as skt\n",
    "from skimage import color as skcol\n",
    "%matplotlib inline"
   ]
  },
  {
   "cell_type": "markdown",
   "metadata": {},
   "source": [
    "In the following several exercises, we will construct a motion energy Gabor filter! The equation for a motion energy Gabor function (which defines a motion energy Gabor filter) is:\n",
    "\n",
    "## $G_{i,p}(x, y, t) = e^{-\\frac{(x - cx_i)^2 + (y - cy_i)^2}{2 \\sigma_{xy, i}^2} - \\frac{(t-ct_i)^2}{2\\sigma_{t, i}^2}} * sin((x-cx_i) * fx_i + (y-cy_i) * fy_i + (t-ct_i)ft_i + p)$\n",
    "\n",
    "Let's break this down into parts: we have a 3D Gaussian (in red):\n",
    "## <span style=\"color:red\">$G_{i,p}(x, y, t) = e^{-\\frac{(x - cx_i)^2 + (y - cy_i)^2}{2\\sigma_{xy, i}^2} - \\frac{(t-ct_i)^2}{2\\sigma_{t, i}^2}}$</span>  *\n",
    "...times a 3D grating (in blue):\n",
    "## <span style=\"color:blue\">$ sin((x-cx_i) * fx_i + (y-cy_i) * fy_i + (t-ct_i)ft_i + p)$</span>\n",
    "\n",
    "Code up the Gaussian first! \n",
    "\n",
    "## Exercise 01: \n",
    "Define a function to make a 3D Gaussian. It should take parameters cx, cy, sigma_xy, and sigma_t, and should have default values for x, y, and t (which will define the visual and temporal spaces over which the Gaussian is defined). NOTE: by convention here, we will define t as being a linearly spaced variable from 0 to 1 over 10 frames (for the stimuli we will use, 10 frames / 15 frames/second = 0.6666 seconds worth of movie). \n",
    "\n",
    "So: \n",
    "\n",
    "```python\n",
    "def make_3d_gauss(cx, cy, sigma_x, sigma_y, sigma_t, x=some_variable, y=some_variable, t=some_variable):\n",
    "    gauss = 0 # Some math!\n",
    "    return gauss\n",
    "```\n",
    "\n",
    "When you are done, you should have a stack of images (X x Y x Time), i.e. (96 x 96 x 10). Show each of these images in a separate subplot to see what you've generated! (hint: use `plt.subplots()` and `plt.imshow()`, or better still `ax.imshow()` from each of your subplot axes)"
   ]
  },
  {
   "cell_type": "code",
   "execution_count": null,
   "metadata": {},
   "outputs": [],
   "source": [
    "# Answser, a (function)\n"
   ]
  },
  {
   "cell_type": "code",
   "execution_count": null,
   "metadata": {},
   "outputs": [],
   "source": [
    "# Answer, b (plotting)\n"
   ]
  },
  {
   "cell_type": "markdown",
   "metadata": {},
   "source": [
    "## Exercise 02: \n",
    "Make a 3D grating! As a reminder, here's the formula\n",
    "\n",
    "## $ sin((x-cx_i) * fx_i + (y-cy_i) * fy_i + (t-ct_i)ft_i + p)$\n",
    "\n",
    "$fx_i$ is the x frequency of the grating, which you should compute from the desired orientation of the grating; $fy_i$ is the y frequency of the grating, which you should compute from the desired orientation of the grating. See the example function below to show you how to compute those. Once again, ct will be 0.5, and t should range in value from 0 to 1.\n",
    "\n",
    "So, your function should be of the form:\n",
    "\n",
    "```python\n",
    "def make_3D_grating(orientation, spatial_frequency, temporal_frequency, cx, cy, x=some_value, y=some_value, t=some_value):\n",
    "    fx = -spatial_frequency * np.cos(orientation / 180 * np.pi) * 2 * np.pi\n",
    "    fy = spatial_frequency * np.sin(orientation / 180 * np.pi) * 2 * np.pi\n",
    "    ft = temporal_frequency * 2 * np.pi\n",
    "    grat = 0 # some math!\n",
    "    return grat\n",
    "```\n",
    "\n"
   ]
  },
  {
   "cell_type": "code",
   "execution_count": null,
   "metadata": {},
   "outputs": [],
   "source": [
    "# Answer, a (function)"
   ]
  },
  {
   "cell_type": "code",
   "execution_count": null,
   "metadata": {},
   "outputs": [],
   "source": [
    "# Answer, b (plotting)"
   ]
  },
  {
   "cell_type": "code",
   "execution_count": null,
   "metadata": {},
   "outputs": [],
   "source": []
  },
  {
   "cell_type": "code",
   "execution_count": null,
   "metadata": {},
   "outputs": [],
   "source": [
    "# Combine the gaussian and the grating to define the Gabor filter, and display it!  \n",
    "gab = grat * gauss\n",
    "\n",
    "fig, axs = plt.subplots(2, 5, figsize=(10,4))\n",
    "for gg, ax in zip(gab.T, axs.flatten()):\n",
    "    ax.imshow(gg.T)"
   ]
  },
  {
   "cell_type": "markdown",
   "metadata": {},
   "source": [
    "# Multiply this Gabor by a stack of images"
   ]
  },
  {
   "cell_type": "code",
   "execution_count": null,
   "metadata": {},
   "outputs": [],
   "source": [
    "# Load images (these were part of the validation images used in Nishimoto et al 2011)\n",
    "ims = np.load('/unrshare/LESCROARTSHARE/data_PSY763/natural_movie_450frames.npy')\n",
    "# These are the spaitally downsampled , luminance channels only \n",
    "print(ims.shape)"
   ]
  },
  {
   "cell_type": "code",
   "execution_count": null,
   "metadata": {},
   "outputs": [],
   "source": [
    "# play with me! (change frame)\n",
    "frame = 0\n",
    "plt.imshow(ims[:,:,frame], cmap='gray', vmin=0, vmax=100)"
   ]
  },
  {
   "cell_type": "markdown",
   "metadata": {},
   "source": [
    "# Compute a response for first (valid) block of times\n",
    "Multiply the array defining the Gabor filter with a chunk of images that is the same size, and take the sum of all values."
   ]
  },
  {
   "cell_type": "code",
   "execution_count": null,
   "metadata": {},
   "outputs": [],
   "source": [
    "st = 0\n",
    "fin = 10\n",
    "resp = np.sum(gab * ims[:,:,st:fin])"
   ]
  },
  {
   "cell_type": "markdown",
   "metadata": {},
   "source": [
    "## Exercise 03: \n",
    "Now compute this for all valid frames of the stimulus! (up to the point that the Gabor filter bumps up against the first / last movie frame). \n",
    "\n",
    "Plot the response!"
   ]
  },
  {
   "cell_type": "code",
   "execution_count": null,
   "metadata": {},
   "outputs": [],
   "source": [
    "# Answer\n"
   ]
  },
  {
   "cell_type": "markdown",
   "metadata": {},
   "source": [
    "This is ALMOST but NOT QUITE the response of a motion energy filter over time. What's missing??\n",
    "\n",
    "What has to be done finish the computation of motion energy? \n",
    "\n",
    "## Go back and add the missing component of the model! \n",
    "\n",
    "## Change the location, size, or temporal frequency of the filter and see what happens!"
   ]
  },
  {
   "cell_type": "code",
   "execution_count": null,
   "metadata": {},
   "outputs": [],
   "source": []
  }
 ],
 "metadata": {
  "kernelspec": {
   "display_name": "Python 3",
   "language": "python",
   "name": "python3"
  },
  "language_info": {
   "codemirror_mode": {
    "name": "ipython",
    "version": 3
   },
   "file_extension": ".py",
   "mimetype": "text/x-python",
   "name": "python",
   "nbconvert_exporter": "python",
   "pygments_lexer": "ipython3",
   "version": "3.5.2"
  }
 },
 "nbformat": 4,
 "nbformat_minor": 2
}
